{
 "cells": [
  {
   "cell_type": "markdown",
   "metadata": {},
   "source": [
    "# Yelp Data Challenge - Data Preprocessing"
   ]
  },
  {
   "cell_type": "markdown",
   "metadata": {},
   "source": [
    "### Flora Li"
   ]
  },
  {
   "cell_type": "markdown",
   "metadata": {},
   "source": [
    "### Goal"
   ]
  },
  {
   "cell_type": "markdown",
   "metadata": {},
   "source": [
    "1. Read data from file and load to Pandas DataFrame\n",
    "2. Filter data by city, category and date\n",
    "3. Join business and review data on \"business_id\"\n",
    "4. Exploratory data analysis(EDA) on numeric and categorical variables from final data"
   ]
  },
  {
   "cell_type": "markdown",
   "metadata": {},
   "source": [
    "### Dataset Introduction"
   ]
  },
  {
   "cell_type": "markdown",
   "metadata": {},
   "source": [
    "\n",
    "Yelp Dataset Challenge\n",
    "\n",
    "The Challenge Dataset:\n",
    "\n",
    "    4.1M reviews and 947K tips by 1M users for 144K businesses\n",
    "\n",
    "    1.1M business attributes, e.g., hours, parking availability, ambience.\n",
    "\n",
    "    Aggregated check-ins over time for each of the 125K businesses\n",
    "\n",
    "    200,000 pictures from the included businesses\n",
    "\n",
    "\n",
    "\n",
    "Cities:\n",
    "\n",
    "    U.K.: Edinburgh\n",
    "\n",
    "    Germany: Karlsruhe\n",
    "\n",
    "    Canada: Montreal and Waterloo\n",
    "\n",
    "    U.S.: Pittsburgh, Charlotte, Urbana-Champaign, Phoenix, Las Vegas, Madison, Cleveland\n",
    "\n",
    "\n",
    "\n",
    "Files:\n",
    "\n",
    "    yelp_academic_dataset_business.json\n",
    "\n",
    "    yelp_academic_dataset_checkin.json\n",
    "\n",
    "    yelp_academic_dataset_review.json\n",
    "\n",
    "    yelp_academic_dataset_tip.json\n",
    "\n",
    "    yelp_academic_dataset_user.json"
   ]
  },
  {
   "cell_type": "markdown",
   "metadata": {},
   "source": [
    "## Read data from file and load to Pandas DataFrame"
   ]
  },
  {
   "cell_type": "code",
   "execution_count": 1,
   "metadata": {
    "collapsed": true
   },
   "outputs": [],
   "source": [
    "import json\n",
    "import pandas as pd"
   ]
  },
  {
   "cell_type": "code",
   "execution_count": 2,
   "metadata": {
    "collapsed": true
   },
   "outputs": [],
   "source": [
    "file_business, file_checkin, file_review, file_tip, file_user = [\n",
    "    'yelp_dataset/business.json',\n",
    "    'yelp_dataset/checkin.json',\n",
    "    'yelp_dataset/review.json',\n",
    "    'yelp_dataset/tip.json',\n",
    "    'yelp_dataset/user.json'\n",
    "]\n",
    "\n"
   ]
  },
  {
   "cell_type": "markdown",
   "metadata": {},
   "source": [
    "### Business Data"
   ]
  },
  {
   "cell_type": "code",
   "execution_count": 3,
   "metadata": {},
   "outputs": [
    {
     "name": "stdout",
     "output_type": "stream",
     "text": [
      "<type 'str'>\n",
      "{\"business_id\": \"YDf95gJZaq05wvo7hTQbbQ\", \"name\": \"Richmond Town Square\", \"neighborhood\": \"\", \"address\": \"691 Richmond Rd\", \"city\": \"Richmond Heights\", \"state\": \"OH\", \"postal_code\": \"44143\", \"latitude\": 41.5417162, \"longitude\": -81.4931165, \"stars\": 2.0, \"review_count\": 17, \"is_open\": 1, \"attributes\": {\"RestaurantsPriceRange2\": 2, \"BusinessParking\": {\"garage\": false, \"street\": false, \"validated\": false, \"lot\": true, \"valet\": false}, \"BikeParking\": true, \"WheelchairAccessible\": true}, \"categories\": [\"Shopping\", \"Shopping Centers\"], \"hours\": {\"Monday\": \"10:00-21:00\", \"Tuesday\": \"10:00-21:00\", \"Friday\": \"10:00-21:00\", \"Wednesday\": \"10:00-21:00\", \"Thursday\": \"10:00-21:00\", \"Sunday\": \"11:00-18:00\", \"Saturday\": \"10:00-21:00\"}}\n",
      "\n",
      "<type 'dict'>\n",
      "{u'city': u'Richmond Heights', u'neighborhood': u'', u'name': u'Richmond Town Square', u'business_id': u'YDf95gJZaq05wvo7hTQbbQ', u'longitude': -81.4931165, u'hours': {u'Monday': u'10:00-21:00', u'Tuesday': u'10:00-21:00', u'Friday': u'10:00-21:00', u'Wednesday': u'10:00-21:00', u'Thursday': u'10:00-21:00', u'Sunday': u'11:00-18:00', u'Saturday': u'10:00-21:00'}, u'state': u'OH', u'postal_code': u'44143', u'categories': [u'Shopping', u'Shopping Centers'], u'stars': 2.0, u'address': u'691 Richmond Rd', u'latitude': 41.5417162, u'review_count': 17, u'attributes': {u'RestaurantsPriceRange2': 2, u'BusinessParking': {u'garage': False, u'street': False, u'validated': False, u'lot': True, u'valet': False}, u'BikeParking': True, u'WheelchairAccessible': True}, u'is_open': 1}\n"
     ]
    }
   ],
   "source": [
    "# Open file\n",
    "f=open(file_business)\n",
    "first_line = f.readline()                  #read json file into string type(original type)\n",
    "first_line_json = json.loads(first_line)   #read the json file into a dictionary\n",
    "print type(first_line)\n",
    "print first_line\n",
    "print type(first_line_json)\n",
    "print first_line_json"
   ]
  },
  {
   "cell_type": "code",
   "execution_count": 4,
   "metadata": {},
   "outputs": [
    {
     "name": "stdout",
     "output_type": "stream",
     "text": [
      "loading business data cost 9.1600s\n"
     ]
    }
   ],
   "source": [
    "from time import time       #used to calculate the time cost to open the file\n",
    "t_start = time()\n",
    "t0=time()\n",
    "\n",
    "with open(file_business) as f:\n",
    "    df_business = pd.DataFrame(json.loads(line) for line in f)\n",
    "    \n",
    "t1=time()\n",
    "print \"loading business data cost {0:.4f}s\". format(t1-t0)"
   ]
  },
  {
   "cell_type": "code",
   "execution_count": 5,
   "metadata": {},
   "outputs": [
    {
     "data": {
      "text/html": [
       "<div>\n",
       "<style>\n",
       "    .dataframe thead tr:only-child th {\n",
       "        text-align: right;\n",
       "    }\n",
       "\n",
       "    .dataframe thead th {\n",
       "        text-align: left;\n",
       "    }\n",
       "\n",
       "    .dataframe tbody tr th {\n",
       "        vertical-align: top;\n",
       "    }\n",
       "</style>\n",
       "<table border=\"1\" class=\"dataframe\">\n",
       "  <thead>\n",
       "    <tr style=\"text-align: right;\">\n",
       "      <th></th>\n",
       "      <th>address</th>\n",
       "      <th>attributes</th>\n",
       "      <th>business_id</th>\n",
       "      <th>categories</th>\n",
       "      <th>city</th>\n",
       "      <th>hours</th>\n",
       "      <th>is_open</th>\n",
       "      <th>latitude</th>\n",
       "      <th>longitude</th>\n",
       "      <th>name</th>\n",
       "      <th>neighborhood</th>\n",
       "      <th>postal_code</th>\n",
       "      <th>review_count</th>\n",
       "      <th>stars</th>\n",
       "      <th>state</th>\n",
       "    </tr>\n",
       "  </thead>\n",
       "  <tbody>\n",
       "    <tr>\n",
       "      <th>0</th>\n",
       "      <td>691 Richmond Rd</td>\n",
       "      <td>{u'RestaurantsPriceRange2': 2, u'BusinessParki...</td>\n",
       "      <td>YDf95gJZaq05wvo7hTQbbQ</td>\n",
       "      <td>[Shopping, Shopping Centers]</td>\n",
       "      <td>Richmond Heights</td>\n",
       "      <td>{u'Monday': u'10:00-21:00', u'Tuesday': u'10:0...</td>\n",
       "      <td>1</td>\n",
       "      <td>41.541716</td>\n",
       "      <td>-81.493116</td>\n",
       "      <td>Richmond Town Square</td>\n",
       "      <td></td>\n",
       "      <td>44143</td>\n",
       "      <td>17</td>\n",
       "      <td>2.0</td>\n",
       "      <td>OH</td>\n",
       "    </tr>\n",
       "    <tr>\n",
       "      <th>1</th>\n",
       "      <td>2824 Milton Rd</td>\n",
       "      <td>{u'GoodForMeal': {u'dessert': False, u'latenig...</td>\n",
       "      <td>mLwM-h2YhXl2NCgdS84_Bw</td>\n",
       "      <td>[Food, Soul Food, Convenience Stores, Restaura...</td>\n",
       "      <td>Charlotte</td>\n",
       "      <td>{u'Monday': u'10:00-22:00', u'Tuesday': u'10:0...</td>\n",
       "      <td>0</td>\n",
       "      <td>35.236870</td>\n",
       "      <td>-80.741976</td>\n",
       "      <td>South Florida Style Chicken &amp; Ribs</td>\n",
       "      <td>Eastland</td>\n",
       "      <td>28215</td>\n",
       "      <td>4</td>\n",
       "      <td>4.5</td>\n",
       "      <td>NC</td>\n",
       "    </tr>\n",
       "    <tr>\n",
       "      <th>2</th>\n",
       "      <td>337 Danforth Avenue</td>\n",
       "      <td>{u'BusinessParking': {u'garage': False, u'stre...</td>\n",
       "      <td>v2WhjAB3PIBA8J8VxG3wEg</td>\n",
       "      <td>[Food, Coffee &amp; Tea]</td>\n",
       "      <td>Toronto</td>\n",
       "      <td>{u'Monday': u'10:00-19:00', u'Tuesday': u'10:0...</td>\n",
       "      <td>0</td>\n",
       "      <td>43.677126</td>\n",
       "      <td>-79.353285</td>\n",
       "      <td>The Tea Emporium</td>\n",
       "      <td>Riverdale</td>\n",
       "      <td>M4K 1N7</td>\n",
       "      <td>7</td>\n",
       "      <td>4.5</td>\n",
       "      <td>ON</td>\n",
       "    </tr>\n",
       "    <tr>\n",
       "      <th>3</th>\n",
       "      <td>7702 E Doubletree Ranch Rd, Ste 300</td>\n",
       "      <td>{}</td>\n",
       "      <td>CVtCbSB1zUcUWg-9TNGTuQ</td>\n",
       "      <td>[Professional Services, Matchmakers]</td>\n",
       "      <td>Scottsdale</td>\n",
       "      <td>{u'Tuesday': u'9:00-17:00', u'Friday': u'9:00-...</td>\n",
       "      <td>1</td>\n",
       "      <td>33.565082</td>\n",
       "      <td>-111.916400</td>\n",
       "      <td>TRUmatch</td>\n",
       "      <td></td>\n",
       "      <td>85258</td>\n",
       "      <td>3</td>\n",
       "      <td>3.0</td>\n",
       "      <td>AZ</td>\n",
       "    </tr>\n",
       "    <tr>\n",
       "      <th>4</th>\n",
       "      <td>4719 N 20Th St</td>\n",
       "      <td>{u'GoodForMeal': {u'dessert': False, u'latenig...</td>\n",
       "      <td>duHFBe87uNSXImQmvBh87Q</td>\n",
       "      <td>[Sandwiches, Restaurants]</td>\n",
       "      <td>Phoenix</td>\n",
       "      <td>{}</td>\n",
       "      <td>0</td>\n",
       "      <td>33.505928</td>\n",
       "      <td>-112.038847</td>\n",
       "      <td>Blimpie</td>\n",
       "      <td></td>\n",
       "      <td>85016</td>\n",
       "      <td>10</td>\n",
       "      <td>4.5</td>\n",
       "      <td>AZ</td>\n",
       "    </tr>\n",
       "  </tbody>\n",
       "</table>\n",
       "</div>"
      ],
      "text/plain": [
       "                               address  \\\n",
       "0                      691 Richmond Rd   \n",
       "1                       2824 Milton Rd   \n",
       "2                  337 Danforth Avenue   \n",
       "3  7702 E Doubletree Ranch Rd, Ste 300   \n",
       "4                       4719 N 20Th St   \n",
       "\n",
       "                                          attributes             business_id  \\\n",
       "0  {u'RestaurantsPriceRange2': 2, u'BusinessParki...  YDf95gJZaq05wvo7hTQbbQ   \n",
       "1  {u'GoodForMeal': {u'dessert': False, u'latenig...  mLwM-h2YhXl2NCgdS84_Bw   \n",
       "2  {u'BusinessParking': {u'garage': False, u'stre...  v2WhjAB3PIBA8J8VxG3wEg   \n",
       "3                                                 {}  CVtCbSB1zUcUWg-9TNGTuQ   \n",
       "4  {u'GoodForMeal': {u'dessert': False, u'latenig...  duHFBe87uNSXImQmvBh87Q   \n",
       "\n",
       "                                          categories              city  \\\n",
       "0                       [Shopping, Shopping Centers]  Richmond Heights   \n",
       "1  [Food, Soul Food, Convenience Stores, Restaura...         Charlotte   \n",
       "2                               [Food, Coffee & Tea]           Toronto   \n",
       "3               [Professional Services, Matchmakers]        Scottsdale   \n",
       "4                          [Sandwiches, Restaurants]           Phoenix   \n",
       "\n",
       "                                               hours  is_open   latitude  \\\n",
       "0  {u'Monday': u'10:00-21:00', u'Tuesday': u'10:0...        1  41.541716   \n",
       "1  {u'Monday': u'10:00-22:00', u'Tuesday': u'10:0...        0  35.236870   \n",
       "2  {u'Monday': u'10:00-19:00', u'Tuesday': u'10:0...        0  43.677126   \n",
       "3  {u'Tuesday': u'9:00-17:00', u'Friday': u'9:00-...        1  33.565082   \n",
       "4                                                 {}        0  33.505928   \n",
       "\n",
       "    longitude                                name neighborhood postal_code  \\\n",
       "0  -81.493116                Richmond Town Square                    44143   \n",
       "1  -80.741976  South Florida Style Chicken & Ribs     Eastland       28215   \n",
       "2  -79.353285                    The Tea Emporium    Riverdale     M4K 1N7   \n",
       "3 -111.916400                            TRUmatch                    85258   \n",
       "4 -112.038847                             Blimpie                    85016   \n",
       "\n",
       "   review_count  stars state  \n",
       "0            17    2.0    OH  \n",
       "1             4    4.5    NC  \n",
       "2             7    4.5    ON  \n",
       "3             3    3.0    AZ  \n",
       "4            10    4.5    AZ  "
      ]
     },
     "execution_count": 5,
     "metadata": {},
     "output_type": "execute_result"
    }
   ],
   "source": [
    "df_business.head(5)"
   ]
  },
  {
   "cell_type": "code",
   "execution_count": 7,
   "metadata": {},
   "outputs": [
    {
     "name": "stdout",
     "output_type": "stream",
     "text": [
      "<class 'pandas.core.frame.DataFrame'>\n",
      "RangeIndex: 156639 entries, 0 to 156638\n",
      "Data columns (total 15 columns):\n",
      "address         156639 non-null object\n",
      "attributes      156639 non-null object\n",
      "business_id     156639 non-null object\n",
      "categories      156639 non-null object\n",
      "city            156639 non-null object\n",
      "hours           156639 non-null object\n",
      "is_open         156639 non-null int64\n",
      "latitude        156638 non-null float64\n",
      "longitude       156638 non-null float64\n",
      "name            156639 non-null object\n",
      "neighborhood    156639 non-null object\n",
      "postal_code     156639 non-null object\n",
      "review_count    156639 non-null int64\n",
      "stars           156639 non-null float64\n",
      "state           156639 non-null object\n",
      "dtypes: float64(3), int64(2), object(10)\n",
      "memory usage: 17.9+ MB\n"
     ]
    }
   ],
   "source": [
    "df_business.info()"
   ]
  },
  {
   "cell_type": "markdown",
   "metadata": {},
   "source": [
    "We can see that the business file contains 157k observations with 15 features."
   ]
  },
  {
   "cell_type": "code",
   "execution_count": 8,
   "metadata": {},
   "outputs": [
    {
     "data": {
      "text/html": [
       "<div>\n",
       "<style>\n",
       "    .dataframe thead tr:only-child th {\n",
       "        text-align: right;\n",
       "    }\n",
       "\n",
       "    .dataframe thead th {\n",
       "        text-align: left;\n",
       "    }\n",
       "\n",
       "    .dataframe tbody tr th {\n",
       "        vertical-align: top;\n",
       "    }\n",
       "</style>\n",
       "<table border=\"1\" class=\"dataframe\">\n",
       "  <thead>\n",
       "    <tr style=\"text-align: right;\">\n",
       "      <th></th>\n",
       "      <th>is_open</th>\n",
       "      <th>latitude</th>\n",
       "      <th>longitude</th>\n",
       "      <th>review_count</th>\n",
       "      <th>stars</th>\n",
       "    </tr>\n",
       "  </thead>\n",
       "  <tbody>\n",
       "    <tr>\n",
       "      <th>count</th>\n",
       "      <td>156639.000000</td>\n",
       "      <td>156638.000000</td>\n",
       "      <td>156638.000000</td>\n",
       "      <td>156639.000000</td>\n",
       "      <td>156639.000000</td>\n",
       "    </tr>\n",
       "    <tr>\n",
       "      <th>mean</th>\n",
       "      <td>0.844375</td>\n",
       "      <td>38.585033</td>\n",
       "      <td>-92.856485</td>\n",
       "      <td>30.238159</td>\n",
       "      <td>3.647154</td>\n",
       "    </tr>\n",
       "    <tr>\n",
       "      <th>std</th>\n",
       "      <td>0.362501</td>\n",
       "      <td>5.399871</td>\n",
       "      <td>26.557741</td>\n",
       "      <td>96.486631</td>\n",
       "      <td>0.977640</td>\n",
       "    </tr>\n",
       "    <tr>\n",
       "      <th>min</th>\n",
       "      <td>0.000000</td>\n",
       "      <td>-36.086009</td>\n",
       "      <td>-142.466650</td>\n",
       "      <td>3.000000</td>\n",
       "      <td>1.000000</td>\n",
       "    </tr>\n",
       "    <tr>\n",
       "      <th>25%</th>\n",
       "      <td>1.000000</td>\n",
       "      <td>33.627161</td>\n",
       "      <td>-112.138207</td>\n",
       "      <td>4.000000</td>\n",
       "      <td>3.000000</td>\n",
       "    </tr>\n",
       "    <tr>\n",
       "      <th>50%</th>\n",
       "      <td>1.000000</td>\n",
       "      <td>36.142381</td>\n",
       "      <td>-89.523198</td>\n",
       "      <td>9.000000</td>\n",
       "      <td>3.500000</td>\n",
       "    </tr>\n",
       "    <tr>\n",
       "      <th>75%</th>\n",
       "      <td>1.000000</td>\n",
       "      <td>43.596845</td>\n",
       "      <td>-79.668760</td>\n",
       "      <td>23.000000</td>\n",
       "      <td>4.500000</td>\n",
       "    </tr>\n",
       "    <tr>\n",
       "      <th>max</th>\n",
       "      <td>1.000000</td>\n",
       "      <td>89.999314</td>\n",
       "      <td>115.086769</td>\n",
       "      <td>6979.000000</td>\n",
       "      <td>5.000000</td>\n",
       "    </tr>\n",
       "  </tbody>\n",
       "</table>\n",
       "</div>"
      ],
      "text/plain": [
       "             is_open       latitude      longitude   review_count  \\\n",
       "count  156639.000000  156638.000000  156638.000000  156639.000000   \n",
       "mean        0.844375      38.585033     -92.856485      30.238159   \n",
       "std         0.362501       5.399871      26.557741      96.486631   \n",
       "min         0.000000     -36.086009    -142.466650       3.000000   \n",
       "25%         1.000000      33.627161    -112.138207       4.000000   \n",
       "50%         1.000000      36.142381     -89.523198       9.000000   \n",
       "75%         1.000000      43.596845     -79.668760      23.000000   \n",
       "max         1.000000      89.999314     115.086769    6979.000000   \n",
       "\n",
       "               stars  \n",
       "count  156639.000000  \n",
       "mean        3.647154  \n",
       "std         0.977640  \n",
       "min         1.000000  \n",
       "25%         3.000000  \n",
       "50%         3.500000  \n",
       "75%         4.500000  \n",
       "max         5.000000  "
      ]
     },
     "execution_count": 8,
     "metadata": {},
     "output_type": "execute_result"
    }
   ],
   "source": [
    "df_business.describe()"
   ]
  },
  {
   "cell_type": "markdown",
   "metadata": {},
   "source": [
    "### Checkin Data"
   ]
  },
  {
   "cell_type": "code",
   "execution_count": 9,
   "metadata": {
    "collapsed": true
   },
   "outputs": [],
   "source": [
    "with open(file_checkin) as f:\n",
    "    df_checkin = pd.DataFrame(json.loads(line) for line in f)"
   ]
  },
  {
   "cell_type": "code",
   "execution_count": 10,
   "metadata": {},
   "outputs": [
    {
     "data": {
      "text/html": [
       "<div>\n",
       "<style>\n",
       "    .dataframe thead tr:only-child th {\n",
       "        text-align: right;\n",
       "    }\n",
       "\n",
       "    .dataframe thead th {\n",
       "        text-align: left;\n",
       "    }\n",
       "\n",
       "    .dataframe tbody tr th {\n",
       "        vertical-align: top;\n",
       "    }\n",
       "</style>\n",
       "<table border=\"1\" class=\"dataframe\">\n",
       "  <thead>\n",
       "    <tr style=\"text-align: right;\">\n",
       "      <th></th>\n",
       "      <th>business_id</th>\n",
       "      <th>time</th>\n",
       "    </tr>\n",
       "  </thead>\n",
       "  <tbody>\n",
       "    <tr>\n",
       "      <th>0</th>\n",
       "      <td>7KPBkxAOEtb3QeIL9PEErg</td>\n",
       "      <td>{u'Monday': {u'19:00': 1, u'14:00': 1, u'12:00...</td>\n",
       "    </tr>\n",
       "    <tr>\n",
       "      <th>1</th>\n",
       "      <td>kREVIrSBbtqBhIYkTccQUg</td>\n",
       "      <td>{u'Sunday': {u'19:00': 1}, u'Saturday': {u'16:...</td>\n",
       "    </tr>\n",
       "    <tr>\n",
       "      <th>2</th>\n",
       "      <td>tJRDll5yqpZwehenzE2cSg</td>\n",
       "      <td>{u'Thursday': {u'0:00': 1}, u'Saturday': {u'16...</td>\n",
       "    </tr>\n",
       "    <tr>\n",
       "      <th>3</th>\n",
       "      <td>nhZ1HGWD8lMErdn3FuWuTQ</td>\n",
       "      <td>{u'Monday': {u'19:00': 1, u'21:00': 1, u'17:00...</td>\n",
       "    </tr>\n",
       "    <tr>\n",
       "      <th>4</th>\n",
       "      <td>vDoXZGE7p6xAkKQ0XQPvoA</td>\n",
       "      <td>{u'Saturday': {u'23:00': 1}, u'Thursday': {u'1...</td>\n",
       "    </tr>\n",
       "  </tbody>\n",
       "</table>\n",
       "</div>"
      ],
      "text/plain": [
       "              business_id                                               time\n",
       "0  7KPBkxAOEtb3QeIL9PEErg  {u'Monday': {u'19:00': 1, u'14:00': 1, u'12:00...\n",
       "1  kREVIrSBbtqBhIYkTccQUg  {u'Sunday': {u'19:00': 1}, u'Saturday': {u'16:...\n",
       "2  tJRDll5yqpZwehenzE2cSg  {u'Thursday': {u'0:00': 1}, u'Saturday': {u'16...\n",
       "3  nhZ1HGWD8lMErdn3FuWuTQ  {u'Monday': {u'19:00': 1, u'21:00': 1, u'17:00...\n",
       "4  vDoXZGE7p6xAkKQ0XQPvoA  {u'Saturday': {u'23:00': 1}, u'Thursday': {u'1..."
      ]
     },
     "execution_count": 10,
     "metadata": {},
     "output_type": "execute_result"
    }
   ],
   "source": [
    "df_checkin.head(5)"
   ]
  },
  {
   "cell_type": "code",
   "execution_count": 11,
   "metadata": {},
   "outputs": [
    {
     "name": "stdout",
     "output_type": "stream",
     "text": [
      "<class 'pandas.core.frame.DataFrame'>\n",
      "RangeIndex: 135148 entries, 0 to 135147\n",
      "Data columns (total 2 columns):\n",
      "business_id    135148 non-null object\n",
      "time           135148 non-null object\n",
      "dtypes: object(2)\n",
      "memory usage: 2.1+ MB\n"
     ]
    }
   ],
   "source": [
    "df_checkin.info()"
   ]
  },
  {
   "cell_type": "markdown",
   "metadata": {},
   "source": [
    "The data in checkin file contains 135k observations with 2 features."
   ]
  },
  {
   "cell_type": "markdown",
   "metadata": {},
   "source": [
    "### Review Data"
   ]
  },
  {
   "cell_type": "code",
   "execution_count": 18,
   "metadata": {},
   "outputs": [
    {
     "name": "stdout",
     "output_type": "stream",
     "text": [
      "loading review data cost 758.2090s\n"
     ]
    }
   ],
   "source": [
    "from time import time       \n",
    "t_start = time()\n",
    "t0=time()\n",
    "\n",
    "with open(file_review) as f:\n",
    "    df_review = pd.DataFrame(json.loads(line) for line in f)\n",
    "\n",
    "t1=time()\n",
    "print \"loading review data cost {0:.4f}s\". format(t1-t0)"
   ]
  },
  {
   "cell_type": "code",
   "execution_count": 13,
   "metadata": {},
   "outputs": [
    {
     "data": {
      "text/html": [
       "<div>\n",
       "<style>\n",
       "    .dataframe thead tr:only-child th {\n",
       "        text-align: right;\n",
       "    }\n",
       "\n",
       "    .dataframe thead th {\n",
       "        text-align: left;\n",
       "    }\n",
       "\n",
       "    .dataframe tbody tr th {\n",
       "        vertical-align: top;\n",
       "    }\n",
       "</style>\n",
       "<table border=\"1\" class=\"dataframe\">\n",
       "  <thead>\n",
       "    <tr style=\"text-align: right;\">\n",
       "      <th></th>\n",
       "      <th>business_id</th>\n",
       "      <th>cool</th>\n",
       "      <th>date</th>\n",
       "      <th>funny</th>\n",
       "      <th>review_id</th>\n",
       "      <th>stars</th>\n",
       "      <th>text</th>\n",
       "      <th>useful</th>\n",
       "      <th>user_id</th>\n",
       "    </tr>\n",
       "  </thead>\n",
       "  <tbody>\n",
       "    <tr>\n",
       "      <th>0</th>\n",
       "      <td>uYHaNptLzDLoV_JZ_MuzUA</td>\n",
       "      <td>0</td>\n",
       "      <td>2016-07-12</td>\n",
       "      <td>0</td>\n",
       "      <td>VfBHSwC5Vz_pbFluy07i9Q</td>\n",
       "      <td>5</td>\n",
       "      <td>My girlfriend and I stayed here for 3 nights a...</td>\n",
       "      <td>0</td>\n",
       "      <td>cjpdDjZyprfyDG3RlkVG3w</td>\n",
       "    </tr>\n",
       "    <tr>\n",
       "      <th>1</th>\n",
       "      <td>uYHaNptLzDLoV_JZ_MuzUA</td>\n",
       "      <td>0</td>\n",
       "      <td>2016-10-02</td>\n",
       "      <td>0</td>\n",
       "      <td>3zRpneRKDsOPq92tq7ybAA</td>\n",
       "      <td>3</td>\n",
       "      <td>If you need an inexpensive place to stay for a...</td>\n",
       "      <td>0</td>\n",
       "      <td>bjTcT8Ty4cJZhEOEo01FGA</td>\n",
       "    </tr>\n",
       "    <tr>\n",
       "      <th>2</th>\n",
       "      <td>uYHaNptLzDLoV_JZ_MuzUA</td>\n",
       "      <td>0</td>\n",
       "      <td>2015-09-17</td>\n",
       "      <td>0</td>\n",
       "      <td>ne5WhI1jUFOcRn-b-gAzHA</td>\n",
       "      <td>3</td>\n",
       "      <td>Mittlerweile gibt es in Edinburgh zwei Ableger...</td>\n",
       "      <td>0</td>\n",
       "      <td>AXgRULmWcME7J6Ix3I--ww</td>\n",
       "    </tr>\n",
       "    <tr>\n",
       "      <th>3</th>\n",
       "      <td>uYHaNptLzDLoV_JZ_MuzUA</td>\n",
       "      <td>0</td>\n",
       "      <td>2016-08-21</td>\n",
       "      <td>0</td>\n",
       "      <td>llmdwOgDReucVoWEry61Lw</td>\n",
       "      <td>4</td>\n",
       "      <td>Location is everything and this hotel has it! ...</td>\n",
       "      <td>0</td>\n",
       "      <td>oU2SSOmsp_A8JYI7Z2JJ5w</td>\n",
       "    </tr>\n",
       "    <tr>\n",
       "      <th>4</th>\n",
       "      <td>uYHaNptLzDLoV_JZ_MuzUA</td>\n",
       "      <td>0</td>\n",
       "      <td>2013-11-20</td>\n",
       "      <td>0</td>\n",
       "      <td>DuffS87NaSMDmIfluvT83g</td>\n",
       "      <td>5</td>\n",
       "      <td>gute lage im stadtzentrum. shoppingmeile und s...</td>\n",
       "      <td>0</td>\n",
       "      <td>0xtbPEna2Kei11vsU-U2Mw</td>\n",
       "    </tr>\n",
       "  </tbody>\n",
       "</table>\n",
       "</div>"
      ],
      "text/plain": [
       "              business_id  cool        date  funny               review_id  \\\n",
       "0  uYHaNptLzDLoV_JZ_MuzUA     0  2016-07-12      0  VfBHSwC5Vz_pbFluy07i9Q   \n",
       "1  uYHaNptLzDLoV_JZ_MuzUA     0  2016-10-02      0  3zRpneRKDsOPq92tq7ybAA   \n",
       "2  uYHaNptLzDLoV_JZ_MuzUA     0  2015-09-17      0  ne5WhI1jUFOcRn-b-gAzHA   \n",
       "3  uYHaNptLzDLoV_JZ_MuzUA     0  2016-08-21      0  llmdwOgDReucVoWEry61Lw   \n",
       "4  uYHaNptLzDLoV_JZ_MuzUA     0  2013-11-20      0  DuffS87NaSMDmIfluvT83g   \n",
       "\n",
       "   stars                                               text  useful  \\\n",
       "0      5  My girlfriend and I stayed here for 3 nights a...       0   \n",
       "1      3  If you need an inexpensive place to stay for a...       0   \n",
       "2      3  Mittlerweile gibt es in Edinburgh zwei Ableger...       0   \n",
       "3      4  Location is everything and this hotel has it! ...       0   \n",
       "4      5  gute lage im stadtzentrum. shoppingmeile und s...       0   \n",
       "\n",
       "                  user_id  \n",
       "0  cjpdDjZyprfyDG3RlkVG3w  \n",
       "1  bjTcT8Ty4cJZhEOEo01FGA  \n",
       "2  AXgRULmWcME7J6Ix3I--ww  \n",
       "3  oU2SSOmsp_A8JYI7Z2JJ5w  \n",
       "4  0xtbPEna2Kei11vsU-U2Mw  "
      ]
     },
     "execution_count": 13,
     "metadata": {},
     "output_type": "execute_result"
    }
   ],
   "source": [
    "df_review.head(5)"
   ]
  },
  {
   "cell_type": "code",
   "execution_count": 14,
   "metadata": {},
   "outputs": [
    {
     "name": "stdout",
     "output_type": "stream",
     "text": [
      "<class 'pandas.core.frame.DataFrame'>\n",
      "RangeIndex: 4736897 entries, 0 to 4736896\n",
      "Data columns (total 9 columns):\n",
      "business_id    object\n",
      "cool           int64\n",
      "date           object\n",
      "funny          int64\n",
      "review_id      object\n",
      "stars          int64\n",
      "text           object\n",
      "useful         int64\n",
      "user_id        object\n",
      "dtypes: int64(4), object(5)\n",
      "memory usage: 325.3+ MB\n"
     ]
    }
   ],
   "source": [
    "df_review.info()"
   ]
  },
  {
   "cell_type": "markdown",
   "metadata": {},
   "source": [
    "The review data contains 4.7 million observations with 9 features."
   ]
  },
  {
   "cell_type": "markdown",
   "metadata": {},
   "source": [
    "### Tip Data"
   ]
  },
  {
   "cell_type": "code",
   "execution_count": 15,
   "metadata": {
    "collapsed": true
   },
   "outputs": [],
   "source": [
    "with open(file_tip) as f:\n",
    "   df_tip = pd.DataFrame(json.loads(line) for line in f)"
   ]
  },
  {
   "cell_type": "code",
   "execution_count": 29,
   "metadata": {},
   "outputs": [
    {
     "data": {
      "text/html": [
       "<div>\n",
       "<style>\n",
       "    .dataframe thead tr:only-child th {\n",
       "        text-align: right;\n",
       "    }\n",
       "\n",
       "    .dataframe thead th {\n",
       "        text-align: left;\n",
       "    }\n",
       "\n",
       "    .dataframe tbody tr th {\n",
       "        vertical-align: top;\n",
       "    }\n",
       "</style>\n",
       "<table border=\"1\" class=\"dataframe\">\n",
       "  <thead>\n",
       "    <tr style=\"text-align: right;\">\n",
       "      <th></th>\n",
       "      <th>business_id</th>\n",
       "      <th>date</th>\n",
       "      <th>likes</th>\n",
       "      <th>text</th>\n",
       "      <th>user_id</th>\n",
       "    </tr>\n",
       "  </thead>\n",
       "  <tbody>\n",
       "    <tr>\n",
       "      <th>0</th>\n",
       "      <td>tJRDll5yqpZwehenzE2cSg</td>\n",
       "      <td>2012-07-15</td>\n",
       "      <td>0</td>\n",
       "      <td>Get here early enough to have dinner.</td>\n",
       "      <td>zcTZk7OG8ovAmh_fenH21g</td>\n",
       "    </tr>\n",
       "    <tr>\n",
       "      <th>1</th>\n",
       "      <td>jH19V2I9fIslnNhDzPmdkA</td>\n",
       "      <td>2015-08-12</td>\n",
       "      <td>0</td>\n",
       "      <td>Great breakfast large portions and friendly wa...</td>\n",
       "      <td>ZcLKXikTHYOnYt5VYRO5sg</td>\n",
       "    </tr>\n",
       "  </tbody>\n",
       "</table>\n",
       "</div>"
      ],
      "text/plain": [
       "              business_id        date  likes  \\\n",
       "0  tJRDll5yqpZwehenzE2cSg  2012-07-15      0   \n",
       "1  jH19V2I9fIslnNhDzPmdkA  2015-08-12      0   \n",
       "\n",
       "                                                text                 user_id  \n",
       "0              Get here early enough to have dinner.  zcTZk7OG8ovAmh_fenH21g  \n",
       "1  Great breakfast large portions and friendly wa...  ZcLKXikTHYOnYt5VYRO5sg  "
      ]
     },
     "execution_count": 29,
     "metadata": {},
     "output_type": "execute_result"
    }
   ],
   "source": [
    "df_tip.head(2)"
   ]
  },
  {
   "cell_type": "code",
   "execution_count": 16,
   "metadata": {},
   "outputs": [
    {
     "name": "stdout",
     "output_type": "stream",
     "text": [
      "<class 'pandas.core.frame.DataFrame'>\n",
      "RangeIndex: 1028802 entries, 0 to 1028801\n",
      "Data columns (total 5 columns):\n",
      "business_id    1028802 non-null object\n",
      "date           1028802 non-null object\n",
      "likes          1028802 non-null int64\n",
      "text           1028802 non-null object\n",
      "user_id        1028802 non-null object\n",
      "dtypes: int64(1), object(4)\n",
      "memory usage: 39.2+ MB\n"
     ]
    }
   ],
   "source": [
    "df_tip.info()"
   ]
  },
  {
   "cell_type": "markdown",
   "metadata": {},
   "source": [
    "The tip dataset contains 1.03 million observations with 5 features."
   ]
  },
  {
   "cell_type": "markdown",
   "metadata": {},
   "source": [
    "### User Data"
   ]
  },
  {
   "cell_type": "code",
   "execution_count": null,
   "metadata": {
    "collapsed": true
   },
   "outputs": [],
   "source": [
    "#with open(file_user) as f:\n",
    "#    df_user = pd.DataFrame(json.loads(line) for line in f)"
   ]
  },
  {
   "cell_type": "code",
   "execution_count": null,
   "metadata": {
    "collapsed": true
   },
   "outputs": [],
   "source": [
    "#df_user.head(2)"
   ]
  },
  {
   "cell_type": "code",
   "execution_count": null,
   "metadata": {
    "collapsed": true
   },
   "outputs": [],
   "source": [
    "#df_user.info()"
   ]
  },
  {
   "cell_type": "markdown",
   "metadata": {},
   "source": [
    "## Filter data by city and category"
   ]
  },
  {
   "cell_type": "markdown",
   "metadata": {},
   "source": [
    "#### Create filters/masks"
   ]
  },
  {
   "cell_type": "markdown",
   "metadata": {},
   "source": [
    "create filters that selects business\n",
    "\n",
    "1. that are located in \"Las Vegas\"\n",
    "\n",
    "2. that contains \"Restaurants\" in their category (You may need to filter null categories first)"
   ]
  },
  {
   "cell_type": "code",
   "execution_count": 6,
   "metadata": {},
   "outputs": [
    {
     "data": {
      "text/plain": [
       "count        156639\n",
       "unique         1010\n",
       "top       Las Vegas\n",
       "freq          24768\n",
       "Name: city, dtype: object"
      ]
     },
     "execution_count": 6,
     "metadata": {},
     "output_type": "execute_result"
    }
   ],
   "source": [
    "# summary of city column\n",
    "df_business.city.describe()"
   ]
  },
  {
   "cell_type": "markdown",
   "metadata": {
    "collapsed": true
   },
   "source": [
    "We can see that there are 1010 unique values for city, and the most common value is Las Vegas."
   ]
  },
  {
   "cell_type": "code",
   "execution_count": 7,
   "metadata": {
    "collapsed": true
   },
   "outputs": [],
   "source": [
    "# Create Pandas DataFrame filters\n",
    "\n",
    "# city Las Vegas bool\n",
    "cond_city = df_business['city'].isin([\"Las Vegas\",\"las vegas\"])\n",
    "\n",
    "# isnull bool\n",
    "cond_category_not_null = ~df_business[\"categories\"].isnull()\n",
    "\n",
    "# restaurant in categories\n",
    "# first, apply(str) convert categories to strings,\n",
    "# then check if it contains Restaurants \n",
    "cond_category_restaurant = df_business[\"categories\"].apply(str).str.contains(\"Restaurants|Restaurant|restaurants|restaurant\")"
   ]
  },
  {
   "cell_type": "code",
   "execution_count": 8,
   "metadata": {
    "collapsed": true
   },
   "outputs": [],
   "source": [
    "# Create filtered DataFrame, and name it df_filtered\n",
    "df_filtered = df_business[cond_city & cond_category_not_null & cond_category_restaurant]"
   ]
  },
  {
   "cell_type": "code",
   "execution_count": 9,
   "metadata": {},
   "outputs": [
    {
     "name": "stdout",
     "output_type": "stream",
     "text": [
      "<class 'pandas.core.frame.DataFrame'>\n",
      "Int64Index: 5687 entries, 58 to 156635\n",
      "Data columns (total 15 columns):\n",
      "address         5687 non-null object\n",
      "attributes      5687 non-null object\n",
      "business_id     5687 non-null object\n",
      "categories      5687 non-null object\n",
      "city            5687 non-null object\n",
      "hours           5687 non-null object\n",
      "is_open         5687 non-null int64\n",
      "latitude        5687 non-null float64\n",
      "longitude       5687 non-null float64\n",
      "name            5687 non-null object\n",
      "neighborhood    5687 non-null object\n",
      "postal_code     5687 non-null object\n",
      "review_count    5687 non-null int64\n",
      "stars           5687 non-null float64\n",
      "state           5687 non-null object\n",
      "dtypes: float64(3), int64(2), object(10)\n",
      "memory usage: 710.9+ KB\n"
     ]
    }
   ],
   "source": [
    "df_filtered.info()"
   ]
  },
  {
   "cell_type": "markdown",
   "metadata": {},
   "source": [
    "We can see that there are 5687 observations in Los Vegas with restaurants as the categories and is not null."
   ]
  },
  {
   "cell_type": "code",
   "execution_count": 10,
   "metadata": {},
   "outputs": [
    {
     "data": {
      "text/html": [
       "<div>\n",
       "<style>\n",
       "    .dataframe thead tr:only-child th {\n",
       "        text-align: right;\n",
       "    }\n",
       "\n",
       "    .dataframe thead th {\n",
       "        text-align: left;\n",
       "    }\n",
       "\n",
       "    .dataframe tbody tr th {\n",
       "        vertical-align: top;\n",
       "    }\n",
       "</style>\n",
       "<table border=\"1\" class=\"dataframe\">\n",
       "  <thead>\n",
       "    <tr style=\"text-align: right;\">\n",
       "      <th></th>\n",
       "      <th>address</th>\n",
       "      <th>attributes</th>\n",
       "      <th>business_id</th>\n",
       "      <th>categories</th>\n",
       "      <th>city</th>\n",
       "      <th>hours</th>\n",
       "      <th>is_open</th>\n",
       "      <th>latitude</th>\n",
       "      <th>longitude</th>\n",
       "      <th>name</th>\n",
       "      <th>neighborhood</th>\n",
       "      <th>postal_code</th>\n",
       "      <th>review_count</th>\n",
       "      <th>stars</th>\n",
       "      <th>state</th>\n",
       "    </tr>\n",
       "  </thead>\n",
       "  <tbody>\n",
       "    <tr>\n",
       "      <th>64912</th>\n",
       "      <td>3981 E Sunset Rd</td>\n",
       "      <td>{u'GoodForMeal': {u'dessert': False, u'latenig...</td>\n",
       "      <td>t3AWGr757V4Fvcun6sDsuw</td>\n",
       "      <td>[Sandwiches, Restaurants]</td>\n",
       "      <td>las vegas</td>\n",
       "      <td>{u'Monday': u'10:00-20:00', u'Tuesday': u'10:0...</td>\n",
       "      <td>1</td>\n",
       "      <td>36.070760</td>\n",
       "      <td>-115.088329</td>\n",
       "      <td>Capriotti's Sandwich Shop</td>\n",
       "      <td></td>\n",
       "      <td>89120</td>\n",
       "      <td>53</td>\n",
       "      <td>3.5</td>\n",
       "      <td>NV</td>\n",
       "    </tr>\n",
       "    <tr>\n",
       "      <th>132099</th>\n",
       "      <td>3199 E Warm Springs Rd</td>\n",
       "      <td>{}</td>\n",
       "      <td>DpxYFBHeje5UU-m2i6_KTg</td>\n",
       "      <td>[Restaurants, Sandwiches]</td>\n",
       "      <td>las vegas</td>\n",
       "      <td>{}</td>\n",
       "      <td>0</td>\n",
       "      <td>36.056199</td>\n",
       "      <td>-115.105022</td>\n",
       "      <td>Eat 'em Sandwiches</td>\n",
       "      <td></td>\n",
       "      <td>89120</td>\n",
       "      <td>3</td>\n",
       "      <td>2.5</td>\n",
       "      <td>NV</td>\n",
       "    </tr>\n",
       "  </tbody>\n",
       "</table>\n",
       "</div>"
      ],
      "text/plain": [
       "                       address  \\\n",
       "64912         3981 E Sunset Rd   \n",
       "132099  3199 E Warm Springs Rd   \n",
       "\n",
       "                                               attributes  \\\n",
       "64912   {u'GoodForMeal': {u'dessert': False, u'latenig...   \n",
       "132099                                                 {}   \n",
       "\n",
       "                   business_id                 categories       city  \\\n",
       "64912   t3AWGr757V4Fvcun6sDsuw  [Sandwiches, Restaurants]  las vegas   \n",
       "132099  DpxYFBHeje5UU-m2i6_KTg  [Restaurants, Sandwiches]  las vegas   \n",
       "\n",
       "                                                    hours  is_open   latitude  \\\n",
       "64912   {u'Monday': u'10:00-20:00', u'Tuesday': u'10:0...        1  36.070760   \n",
       "132099                                                 {}        0  36.056199   \n",
       "\n",
       "         longitude                       name neighborhood postal_code  \\\n",
       "64912  -115.088329  Capriotti's Sandwich Shop                    89120   \n",
       "132099 -115.105022         Eat 'em Sandwiches                    89120   \n",
       "\n",
       "        review_count  stars state  \n",
       "64912             53    3.5    NV  \n",
       "132099             3    2.5    NV  "
      ]
     },
     "execution_count": 10,
     "metadata": {},
     "output_type": "execute_result"
    }
   ],
   "source": [
    "# check if there are city columns with lower capital \"las vegas\"\n",
    "df_filtered[df_filtered.city == \"las vegas\"]"
   ]
  },
  {
   "cell_type": "markdown",
   "metadata": {},
   "source": [
    "#### Keep relevant columns"
   ]
  },
  {
   "cell_type": "markdown",
   "metadata": {},
   "source": [
    "only keep some useful columns\n",
    "\n",
    "business_id\n",
    "\n",
    "name\n",
    "\n",
    "categories\n",
    "\n",
    "stars\n",
    "   "
   ]
  },
  {
   "cell_type": "code",
   "execution_count": 11,
   "metadata": {
    "collapsed": true
   },
   "outputs": [],
   "source": [
    "selected_features = [u'business_id', u'name', u'categories', u'stars']"
   ]
  },
  {
   "cell_type": "code",
   "execution_count": 12,
   "metadata": {
    "collapsed": true
   },
   "outputs": [],
   "source": [
    "# Make a DataFrame that contains only the above mentioned columns, and name it as df_selected_business\n",
    "df_selected_business = df_filtered[selected_features]"
   ]
  },
  {
   "cell_type": "code",
   "execution_count": 13,
   "metadata": {},
   "outputs": [
    {
     "name": "stderr",
     "output_type": "stream",
     "text": [
      "C:\\Users\\Flora\\Anaconda\\envs\\python27\\lib\\site-packages\\pandas\\core\\frame.py:2746: SettingWithCopyWarning: \n",
      "A value is trying to be set on a copy of a slice from a DataFrame\n",
      "\n",
      "See the caveats in the documentation: http://pandas.pydata.org/pandas-docs/stable/indexing.html#indexing-view-versus-copy\n",
      "  **kwargs)\n"
     ]
    }
   ],
   "source": [
    "# Rename the column name \"stars\" to \"avg_stars\" to avoid naming conflicts with review dataset\n",
    "df_selected_business.rename(columns = {\"stars\":\"avg_stars\"}, inplace=True) "
   ]
  },
  {
   "cell_type": "markdown",
   "metadata": {},
   "source": [
    "Here, inplace is a boolean, default False, means whether to return a new DataFrame. If True then value of copy is ignored."
   ]
  },
  {
   "cell_type": "code",
   "execution_count": 14,
   "metadata": {},
   "outputs": [
    {
     "name": "stdout",
     "output_type": "stream",
     "text": [
      "<class 'pandas.core.frame.DataFrame'>\n",
      "Int64Index: 5687 entries, 58 to 156635\n",
      "Data columns (total 4 columns):\n",
      "business_id    5687 non-null object\n",
      "name           5687 non-null object\n",
      "categories     5687 non-null object\n",
      "avg_stars      5687 non-null float64\n",
      "dtypes: float64(1), object(3)\n",
      "memory usage: 222.1+ KB\n"
     ]
    }
   ],
   "source": [
    "# Inspect your DataFrame\n",
    "df_selected_business.info()"
   ]
  },
  {
   "cell_type": "code",
   "execution_count": 15,
   "metadata": {},
   "outputs": [
    {
     "data": {
      "text/html": [
       "<div>\n",
       "<style>\n",
       "    .dataframe thead tr:only-child th {\n",
       "        text-align: right;\n",
       "    }\n",
       "\n",
       "    .dataframe thead th {\n",
       "        text-align: left;\n",
       "    }\n",
       "\n",
       "    .dataframe tbody tr th {\n",
       "        vertical-align: top;\n",
       "    }\n",
       "</style>\n",
       "<table border=\"1\" class=\"dataframe\">\n",
       "  <thead>\n",
       "    <tr style=\"text-align: right;\">\n",
       "      <th></th>\n",
       "      <th>business_id</th>\n",
       "      <th>name</th>\n",
       "      <th>categories</th>\n",
       "      <th>avg_stars</th>\n",
       "    </tr>\n",
       "  </thead>\n",
       "  <tbody>\n",
       "    <tr>\n",
       "      <th>58</th>\n",
       "      <td>LDMCrFlGIFUN6L-FEFgzWg</td>\n",
       "      <td>El Pollo Loco</td>\n",
       "      <td>[Restaurants, American (Traditional), Mexican,...</td>\n",
       "      <td>3.0</td>\n",
       "    </tr>\n",
       "    <tr>\n",
       "      <th>64</th>\n",
       "      <td>QTH_XGh4rWYdd0fTW-tUDw</td>\n",
       "      <td>Baja Fresh Mexican Grill</td>\n",
       "      <td>[Mexican, Restaurants]</td>\n",
       "      <td>3.5</td>\n",
       "    </tr>\n",
       "    <tr>\n",
       "      <th>90</th>\n",
       "      <td>DiA78qPtp6rfRNdomzjBbw</td>\n",
       "      <td>Joshan Filipino Oriental Market</td>\n",
       "      <td>[Chinese, Food, Convenience Stores, Restaurants]</td>\n",
       "      <td>3.5</td>\n",
       "    </tr>\n",
       "    <tr>\n",
       "      <th>107</th>\n",
       "      <td>YTqtM2WFhcMZGeAGA08Cfg</td>\n",
       "      <td>Mariscos Playa Escondida</td>\n",
       "      <td>[Seafood, Restaurants, Specialty Food, Ethnic ...</td>\n",
       "      <td>4.5</td>\n",
       "    </tr>\n",
       "    <tr>\n",
       "      <th>116</th>\n",
       "      <td>Oto60yDwk1z72WmfWEYrjg</td>\n",
       "      <td>Baja Miguel's</td>\n",
       "      <td>[Food, Restaurants, Mexican]</td>\n",
       "      <td>3.0</td>\n",
       "    </tr>\n",
       "  </tbody>\n",
       "</table>\n",
       "</div>"
      ],
      "text/plain": [
       "                business_id                             name  \\\n",
       "58   LDMCrFlGIFUN6L-FEFgzWg                    El Pollo Loco   \n",
       "64   QTH_XGh4rWYdd0fTW-tUDw         Baja Fresh Mexican Grill   \n",
       "90   DiA78qPtp6rfRNdomzjBbw  Joshan Filipino Oriental Market   \n",
       "107  YTqtM2WFhcMZGeAGA08Cfg         Mariscos Playa Escondida   \n",
       "116  Oto60yDwk1z72WmfWEYrjg                    Baja Miguel's   \n",
       "\n",
       "                                            categories  avg_stars  \n",
       "58   [Restaurants, American (Traditional), Mexican,...        3.0  \n",
       "64                              [Mexican, Restaurants]        3.5  \n",
       "90    [Chinese, Food, Convenience Stores, Restaurants]        3.5  \n",
       "107  [Seafood, Restaurants, Specialty Food, Ethnic ...        4.5  \n",
       "116                       [Food, Restaurants, Mexican]        3.0  "
      ]
     },
     "execution_count": 15,
     "metadata": {},
     "output_type": "execute_result"
    }
   ],
   "source": [
    "df_selected_business.head()"
   ]
  },
  {
   "cell_type": "markdown",
   "metadata": {},
   "source": [
    "#### Save results to csv files"
   ]
  },
  {
   "cell_type": "code",
   "execution_count": 17,
   "metadata": {
    "collapsed": true
   },
   "outputs": [],
   "source": [
    "# Save to ./data/selected_business.csv for your next task\n",
    "df_selected_business.to_csv('selected_business.csv', index=False, encoding=\"utf-8\")"
   ]
  },
  {
   "cell_type": "code",
   "execution_count": 18,
   "metadata": {},
   "outputs": [
    {
     "data": {
      "text/html": [
       "<div>\n",
       "<style>\n",
       "    .dataframe thead tr:only-child th {\n",
       "        text-align: right;\n",
       "    }\n",
       "\n",
       "    .dataframe thead th {\n",
       "        text-align: left;\n",
       "    }\n",
       "\n",
       "    .dataframe tbody tr th {\n",
       "        vertical-align: top;\n",
       "    }\n",
       "</style>\n",
       "<table border=\"1\" class=\"dataframe\">\n",
       "  <thead>\n",
       "    <tr style=\"text-align: right;\">\n",
       "      <th></th>\n",
       "      <th>business_id</th>\n",
       "      <th>name</th>\n",
       "      <th>categories</th>\n",
       "      <th>avg_stars</th>\n",
       "    </tr>\n",
       "  </thead>\n",
       "  <tbody>\n",
       "    <tr>\n",
       "      <th>0</th>\n",
       "      <td>LDMCrFlGIFUN6L-FEFgzWg</td>\n",
       "      <td>El Pollo Loco</td>\n",
       "      <td>[Restaurants, American (Traditional), Mexican,...</td>\n",
       "      <td>3.0</td>\n",
       "    </tr>\n",
       "    <tr>\n",
       "      <th>1</th>\n",
       "      <td>QTH_XGh4rWYdd0fTW-tUDw</td>\n",
       "      <td>Baja Fresh Mexican Grill</td>\n",
       "      <td>[Mexican, Restaurants]</td>\n",
       "      <td>3.5</td>\n",
       "    </tr>\n",
       "    <tr>\n",
       "      <th>2</th>\n",
       "      <td>DiA78qPtp6rfRNdomzjBbw</td>\n",
       "      <td>Joshan Filipino Oriental Market</td>\n",
       "      <td>[Chinese, Food, Convenience Stores, Restaurants]</td>\n",
       "      <td>3.5</td>\n",
       "    </tr>\n",
       "    <tr>\n",
       "      <th>3</th>\n",
       "      <td>YTqtM2WFhcMZGeAGA08Cfg</td>\n",
       "      <td>Mariscos Playa Escondida</td>\n",
       "      <td>[Seafood, Restaurants, Specialty Food, Ethnic ...</td>\n",
       "      <td>4.5</td>\n",
       "    </tr>\n",
       "    <tr>\n",
       "      <th>4</th>\n",
       "      <td>Oto60yDwk1z72WmfWEYrjg</td>\n",
       "      <td>Baja Miguel's</td>\n",
       "      <td>[Food, Restaurants, Mexican]</td>\n",
       "      <td>3.0</td>\n",
       "    </tr>\n",
       "  </tbody>\n",
       "</table>\n",
       "</div>"
      ],
      "text/plain": [
       "              business_id                             name  \\\n",
       "0  LDMCrFlGIFUN6L-FEFgzWg                    El Pollo Loco   \n",
       "1  QTH_XGh4rWYdd0fTW-tUDw         Baja Fresh Mexican Grill   \n",
       "2  DiA78qPtp6rfRNdomzjBbw  Joshan Filipino Oriental Market   \n",
       "3  YTqtM2WFhcMZGeAGA08Cfg         Mariscos Playa Escondida   \n",
       "4  Oto60yDwk1z72WmfWEYrjg                    Baja Miguel's   \n",
       "\n",
       "                                          categories  avg_stars  \n",
       "0  [Restaurants, American (Traditional), Mexican,...        3.0  \n",
       "1                             [Mexican, Restaurants]        3.5  \n",
       "2   [Chinese, Food, Convenience Stores, Restaurants]        3.5  \n",
       "3  [Seafood, Restaurants, Specialty Food, Ethnic ...        4.5  \n",
       "4                       [Food, Restaurants, Mexican]        3.0  "
      ]
     },
     "execution_count": 18,
     "metadata": {},
     "output_type": "execute_result"
    }
   ],
   "source": [
    "# Try reload the csv file to check if everything works fine\n",
    "pd.read_csv('selected_business.csv',encoding='utf-8').head()"
   ]
  },
  {
   "cell_type": "markdown",
   "metadata": {},
   "source": [
    "### Use the \"business_id\" column to filter review data¶"
   ]
  },
  {
   "cell_type": "markdown",
   "metadata": {},
   "source": [
    "We want to make a DataFrame that contains and only contains the reviews about the business entities we just obtained"
   ]
  },
  {
   "cell_type": "markdown",
   "metadata": {},
   "source": [
    "#### Load review dataset"
   ]
  },
  {
   "cell_type": "markdown",
   "metadata": {},
   "source": [
    "I have already load the review dataset before, so check the head of df_review."
   ]
  },
  {
   "cell_type": "code",
   "execution_count": 19,
   "metadata": {},
   "outputs": [
    {
     "data": {
      "text/html": [
       "<div>\n",
       "<style>\n",
       "    .dataframe thead tr:only-child th {\n",
       "        text-align: right;\n",
       "    }\n",
       "\n",
       "    .dataframe thead th {\n",
       "        text-align: left;\n",
       "    }\n",
       "\n",
       "    .dataframe tbody tr th {\n",
       "        vertical-align: top;\n",
       "    }\n",
       "</style>\n",
       "<table border=\"1\" class=\"dataframe\">\n",
       "  <thead>\n",
       "    <tr style=\"text-align: right;\">\n",
       "      <th></th>\n",
       "      <th>business_id</th>\n",
       "      <th>cool</th>\n",
       "      <th>date</th>\n",
       "      <th>funny</th>\n",
       "      <th>review_id</th>\n",
       "      <th>stars</th>\n",
       "      <th>text</th>\n",
       "      <th>useful</th>\n",
       "      <th>user_id</th>\n",
       "    </tr>\n",
       "  </thead>\n",
       "  <tbody>\n",
       "    <tr>\n",
       "      <th>0</th>\n",
       "      <td>uYHaNptLzDLoV_JZ_MuzUA</td>\n",
       "      <td>0</td>\n",
       "      <td>2016-07-12</td>\n",
       "      <td>0</td>\n",
       "      <td>VfBHSwC5Vz_pbFluy07i9Q</td>\n",
       "      <td>5</td>\n",
       "      <td>My girlfriend and I stayed here for 3 nights a...</td>\n",
       "      <td>0</td>\n",
       "      <td>cjpdDjZyprfyDG3RlkVG3w</td>\n",
       "    </tr>\n",
       "    <tr>\n",
       "      <th>1</th>\n",
       "      <td>uYHaNptLzDLoV_JZ_MuzUA</td>\n",
       "      <td>0</td>\n",
       "      <td>2016-10-02</td>\n",
       "      <td>0</td>\n",
       "      <td>3zRpneRKDsOPq92tq7ybAA</td>\n",
       "      <td>3</td>\n",
       "      <td>If you need an inexpensive place to stay for a...</td>\n",
       "      <td>0</td>\n",
       "      <td>bjTcT8Ty4cJZhEOEo01FGA</td>\n",
       "    </tr>\n",
       "  </tbody>\n",
       "</table>\n",
       "</div>"
      ],
      "text/plain": [
       "              business_id  cool        date  funny               review_id  \\\n",
       "0  uYHaNptLzDLoV_JZ_MuzUA     0  2016-07-12      0  VfBHSwC5Vz_pbFluy07i9Q   \n",
       "1  uYHaNptLzDLoV_JZ_MuzUA     0  2016-10-02      0  3zRpneRKDsOPq92tq7ybAA   \n",
       "\n",
       "   stars                                               text  useful  \\\n",
       "0      5  My girlfriend and I stayed here for 3 nights a...       0   \n",
       "1      3  If you need an inexpensive place to stay for a...       0   \n",
       "\n",
       "                  user_id  \n",
       "0  cjpdDjZyprfyDG3RlkVG3w  \n",
       "1  bjTcT8Ty4cJZhEOEo01FGA  "
      ]
     },
     "execution_count": 19,
     "metadata": {},
     "output_type": "execute_result"
    }
   ],
   "source": [
    "df_review.head(2)"
   ]
  },
  {
   "cell_type": "markdown",
   "metadata": {},
   "source": [
    "#### Prepare dataframes to be joined, - on business_id"
   ]
  },
  {
   "cell_type": "code",
   "execution_count": 16,
   "metadata": {
    "collapsed": true
   },
   "outputs": [],
   "source": [
    "# Prepare the business dataframe and set index to column \"business_id\", and name it as df_left\n",
    "df_left = df_selected_business.set_index(\"business_id\")"
   ]
  },
  {
   "cell_type": "code",
   "execution_count": 19,
   "metadata": {
    "collapsed": true
   },
   "outputs": [],
   "source": [
    "# Prepare the review dataframe and set index to column \"business_id\", and name it as df_right\n",
    "df_right = df_review.set_index(\"business_id\")"
   ]
  },
  {
   "cell_type": "markdown",
   "metadata": {},
   "source": [
    "#### Join! and reset index"
   ]
  },
  {
   "cell_type": "code",
   "execution_count": 22,
   "metadata": {
    "collapsed": true
   },
   "outputs": [],
   "source": [
    "# Join df_left and df_right. What type of join?\n",
    "# It should be inner join\n",
    "df_joined = df_left.join(df_right, how=\"inner\")"
   ]
  },
  {
   "cell_type": "code",
   "execution_count": 23,
   "metadata": {
    "collapsed": true
   },
   "outputs": [],
   "source": [
    "# You may want to reset the index \n",
    "df_joined.reset_index(inplace=True)"
   ]
  },
  {
   "cell_type": "code",
   "execution_count": 24,
   "metadata": {},
   "outputs": [
    {
     "data": {
      "text/html": [
       "<div>\n",
       "<style>\n",
       "    .dataframe thead tr:only-child th {\n",
       "        text-align: right;\n",
       "    }\n",
       "\n",
       "    .dataframe thead th {\n",
       "        text-align: left;\n",
       "    }\n",
       "\n",
       "    .dataframe tbody tr th {\n",
       "        vertical-align: top;\n",
       "    }\n",
       "</style>\n",
       "<table border=\"1\" class=\"dataframe\">\n",
       "  <thead>\n",
       "    <tr style=\"text-align: right;\">\n",
       "      <th></th>\n",
       "      <th>business_id</th>\n",
       "      <th>name</th>\n",
       "      <th>categories</th>\n",
       "      <th>avg_stars</th>\n",
       "      <th>cool</th>\n",
       "      <th>date</th>\n",
       "      <th>funny</th>\n",
       "      <th>review_id</th>\n",
       "      <th>stars</th>\n",
       "      <th>text</th>\n",
       "      <th>useful</th>\n",
       "      <th>user_id</th>\n",
       "    </tr>\n",
       "  </thead>\n",
       "  <tbody>\n",
       "    <tr>\n",
       "      <th>0</th>\n",
       "      <td>--9e1ONYQuAa-CB_Rrw7Tw</td>\n",
       "      <td>Delmonico Steakhouse</td>\n",
       "      <td>[Steakhouses, Cajun/Creole, Restaurants]</td>\n",
       "      <td>4.0</td>\n",
       "      <td>1</td>\n",
       "      <td>2016-05-17</td>\n",
       "      <td>0</td>\n",
       "      <td>0Qc1THNHSapDL7cv-ZzW5g</td>\n",
       "      <td>5</td>\n",
       "      <td>What can I say.. Wowzers! Probably one of the ...</td>\n",
       "      <td>0</td>\n",
       "      <td>4LxKRRIikhr65GfPDW626w</td>\n",
       "    </tr>\n",
       "    <tr>\n",
       "      <th>1</th>\n",
       "      <td>--9e1ONYQuAa-CB_Rrw7Tw</td>\n",
       "      <td>Delmonico Steakhouse</td>\n",
       "      <td>[Steakhouses, Cajun/Creole, Restaurants]</td>\n",
       "      <td>4.0</td>\n",
       "      <td>1</td>\n",
       "      <td>2011-03-31</td>\n",
       "      <td>0</td>\n",
       "      <td>3PjT8n8rpkwLRuObXLmm3w</td>\n",
       "      <td>2</td>\n",
       "      <td>We went in with high hopes after a friend reco...</td>\n",
       "      <td>0</td>\n",
       "      <td>96aWRa-gy1RrsrFQURagvg</td>\n",
       "    </tr>\n",
       "  </tbody>\n",
       "</table>\n",
       "</div>"
      ],
      "text/plain": [
       "              business_id                  name  \\\n",
       "0  --9e1ONYQuAa-CB_Rrw7Tw  Delmonico Steakhouse   \n",
       "1  --9e1ONYQuAa-CB_Rrw7Tw  Delmonico Steakhouse   \n",
       "\n",
       "                                 categories  avg_stars  cool        date  \\\n",
       "0  [Steakhouses, Cajun/Creole, Restaurants]        4.0     1  2016-05-17   \n",
       "1  [Steakhouses, Cajun/Creole, Restaurants]        4.0     1  2011-03-31   \n",
       "\n",
       "   funny               review_id  stars  \\\n",
       "0      0  0Qc1THNHSapDL7cv-ZzW5g      5   \n",
       "1      0  3PjT8n8rpkwLRuObXLmm3w      2   \n",
       "\n",
       "                                                text  useful  \\\n",
       "0  What can I say.. Wowzers! Probably one of the ...       0   \n",
       "1  We went in with high hopes after a friend reco...       0   \n",
       "\n",
       "                  user_id  \n",
       "0  4LxKRRIikhr65GfPDW626w  \n",
       "1  96aWRa-gy1RrsrFQURagvg  "
      ]
     },
     "execution_count": 24,
     "metadata": {},
     "output_type": "execute_result"
    }
   ],
   "source": [
    "df_joined.head(2)"
   ]
  },
  {
   "cell_type": "markdown",
   "metadata": {},
   "source": [
    "#### We further filter data by date, e.g. keep comments from last 2 years"
   ]
  },
  {
   "cell_type": "markdown",
   "metadata": {},
   "source": [
    "Otherwise your laptop may crush on memory when running machine learning algorithms\n",
    "\n",
    "Purposefully ignoring the reviews made too long time ago"
   ]
  },
  {
   "cell_type": "code",
   "execution_count": 25,
   "metadata": {
    "collapsed": true
   },
   "outputs": [],
   "source": [
    "# Make a filter that selects date after 2015-09-01\n",
    "cond_last_2_years = df_joined['date'] > u'2015-09-01'"
   ]
  },
  {
   "cell_type": "code",
   "execution_count": 26,
   "metadata": {
    "collapsed": true
   },
   "outputs": [],
   "source": [
    "# Filter the joined DataFrame and name it as df_final\n",
    "df_final = df_joined[cond_last_2_years]"
   ]
  },
  {
   "cell_type": "markdown",
   "metadata": {},
   "source": [
    "#### Take a glance at the final dataset"
   ]
  },
  {
   "cell_type": "code",
   "execution_count": 27,
   "metadata": {},
   "outputs": [
    {
     "data": {
      "text/plain": [
       "business_id    0\n",
       "name           0\n",
       "categories     0\n",
       "avg_stars      0\n",
       "cool           0\n",
       "date           0\n",
       "funny          0\n",
       "review_id      0\n",
       "stars          0\n",
       "text           0\n",
       "useful         0\n",
       "user_id        0\n",
       "dtype: int64"
      ]
     },
     "execution_count": 27,
     "metadata": {},
     "output_type": "execute_result"
    }
   ],
   "source": [
    "# Count missing values by column\n",
    "df_final.isnull().sum()"
   ]
  },
  {
   "cell_type": "code",
   "execution_count": 28,
   "metadata": {},
   "outputs": [
    {
     "name": "stdout",
     "output_type": "stream",
     "text": [
      "<class 'pandas.core.frame.DataFrame'>\n",
      "Int64Index: 338573 entries, 0 to 849888\n",
      "Data columns (total 12 columns):\n",
      "business_id    338573 non-null object\n",
      "name           338573 non-null object\n",
      "categories     338573 non-null object\n",
      "avg_stars      338573 non-null float64\n",
      "cool           338573 non-null int64\n",
      "date           338573 non-null object\n",
      "funny          338573 non-null int64\n",
      "review_id      338573 non-null object\n",
      "stars          338573 non-null int64\n",
      "text           338573 non-null object\n",
      "useful         338573 non-null int64\n",
      "user_id        338573 non-null object\n",
      "dtypes: float64(1), int64(4), object(7)\n",
      "memory usage: 33.6+ MB\n"
     ]
    }
   ],
   "source": [
    "df_final.info()"
   ]
  },
  {
   "cell_type": "code",
   "execution_count": 29,
   "metadata": {
    "collapsed": true
   },
   "outputs": [],
   "source": [
    "import matplotlib.pyplot as plt\n",
    "\n",
    "% matplotlib inline"
   ]
  },
  {
   "cell_type": "markdown",
   "metadata": {},
   "source": [
    "#### Categorical variables"
   ]
  },
  {
   "cell_type": "code",
   "execution_count": 30,
   "metadata": {},
   "outputs": [
    {
     "data": {
      "image/png": "[encoded data removed]",
      "text/plain": [
       "<matplotlib.figure.Figure at 0x1080e7f60>"
      ]
     },
     "metadata": {},
     "output_type": "display_data"
    }
   ],
   "source": [
    "# calculate counts of reviews per business entity, and plot it\n",
    "df_final[\"business_id\"].value_counts().plot.hist(bins = 100)\n",
    "plt.show()"
   ]
  },
  {
   "cell_type": "markdown",
   "metadata": {},
   "source": [
    "We can see that most of the restaurants have 0 reveiws or few reviews."
   ]
  },
  {
   "cell_type": "code",
   "execution_count": 31,
   "metadata": {},
   "outputs": [
    {
     "data": {
      "text/plain": [
       "Gangnam Asian BBQ Dining    2771\n",
       "Hash House A Go Go          2701\n",
       "Bacchanal Buffet            2602\n",
       "Gordon Ramsay BurGR         2080\n",
       "Shake Shack                 1915\n",
       "Name: name, dtype: int64"
      ]
     },
     "execution_count": 31,
     "metadata": {},
     "output_type": "execute_result"
    }
   ],
   "source": [
    "# name\n",
    "df_final[\"name\"].value_counts().head(5)"
   ]
  },
  {
   "cell_type": "code",
   "execution_count": 32,
   "metadata": {},
   "outputs": [
    {
     "data": {
      "text/plain": [
       "count                       338573\n",
       "unique                        3059\n",
       "top       Gangnam Asian BBQ Dining\n",
       "freq                          2771\n",
       "Name: name, dtype: object"
      ]
     },
     "execution_count": 32,
     "metadata": {},
     "output_type": "execute_result"
    }
   ],
   "source": [
    "df_final[\"name\"].describe()"
   ]
  },
  {
   "cell_type": "markdown",
   "metadata": {},
   "source": [
    "The most frequent name in the business dataset is Gangnam Asian BBQ Dining."
   ]
  },
  {
   "cell_type": "code",
   "execution_count": 33,
   "metadata": {},
   "outputs": [
    {
     "data": {
      "text/plain": [
       "count                     338573\n",
       "unique                      2892\n",
       "top       [Restaurants, Mexican]\n",
       "freq                        4883\n",
       "Name: categories, dtype: object"
      ]
     },
     "execution_count": 33,
     "metadata": {},
     "output_type": "execute_result"
    }
   ],
   "source": [
    "# categories\n",
    "df_final[\"categories\"].describe()"
   ]
  },
  {
   "cell_type": "markdown",
   "metadata": {},
   "source": [
    "The most common business category is Restaurants, Mexican."
   ]
  },
  {
   "cell_type": "code",
   "execution_count": 34,
   "metadata": {},
   "outputs": [
    {
     "data": {
      "text/plain": [
       "count                     338573\n",
       "unique                    160590\n",
       "top       bLbSNkLggFnqwNNzzq-Ijw\n",
       "freq                         456\n",
       "Name: user_id, dtype: object"
      ]
     },
     "execution_count": 34,
     "metadata": {},
     "output_type": "execute_result"
    }
   ],
   "source": [
    "# user_id\n",
    "df_final[\"user_id\"].describe()"
   ]
  },
  {
   "cell_type": "markdown",
   "metadata": {},
   "source": [
    "#### Numeric variables"
   ]
  },
  {
   "cell_type": "code",
   "execution_count": 35,
   "metadata": {},
   "outputs": [
    {
     "data": {
      "image/png": "[encoded data removed]",
      "text/plain": [
       "<matplotlib.figure.Figure at 0x25abeec50>"
      ]
     },
     "metadata": {},
     "output_type": "display_data"
    }
   ],
   "source": [
    "df_final['avg_stars'].plot.hist(bins = 20)\n",
    "plt.show()"
   ]
  },
  {
   "cell_type": "markdown",
   "metadata": {},
   "source": [
    "The plot shows that most of the restaurants get an average star of 4, followed by 3.5 and 4.5. Very bad and very good are both few."
   ]
  },
  {
   "cell_type": "code",
   "execution_count": 36,
   "metadata": {},
   "outputs": [
    {
     "data": {
      "image/png": "[encoded data removed]",
      "text/plain": [
       "<matplotlib.figure.Figure at 0x25b821f60>"
      ]
     },
     "metadata": {},
     "output_type": "display_data"
    }
   ],
   "source": [
    "df_final['useful'].plot.hist(bins = 20)\n",
    "plt.show()"
   ]
  },
  {
   "cell_type": "code",
   "execution_count": 114,
   "metadata": {},
   "outputs": [
    {
     "data": {
      "image/png": "[encoded data removed]",
      "text/plain": [
       "<matplotlib.figure.Figure at 0x894064a8>"
      ]
     },
     "metadata": {},
     "output_type": "display_data"
    }
   ],
   "source": [
    "df_final['cool'].plot.hist(bins = 20)\n",
    "plt.show()"
   ]
  },
  {
   "cell_type": "code",
   "execution_count": 108,
   "metadata": {
    "scrolled": true
   },
   "outputs": [
    {
     "data": {
      "image/png": "[encoded data removed]",
      "text/plain": [
       "<matplotlib.figure.Figure at 0x8c476da0>"
      ]
     },
     "metadata": {},
     "output_type": "display_data"
    }
   ],
   "source": [
    "df_final['funny'].plot.hist(bins = 20)\n",
    "plt.show()"
   ]
  },
  {
   "cell_type": "markdown",
   "metadata": {},
   "source": [
    "The reviews mentioned 'cool','funny','useful' are few."
   ]
  },
  {
   "cell_type": "markdown",
   "metadata": {
    "collapsed": true
   },
   "source": [
    "### Save your preprocessed dataset to csv file"
   ]
  },
  {
   "cell_type": "code",
   "execution_count": 37,
   "metadata": {
    "collapsed": true
   },
   "outputs": [],
   "source": [
    "# Save to last_2_years_restaurant_reviews.csv for your next task\n",
    "df_final.to_csv('last_2_years_restaurant_reviews1.csv', index=False, encoding='utf-8')"
   ]
  },
  {
   "cell_type": "code",
   "execution_count": null,
   "metadata": {
    "collapsed": true
   },
   "outputs": [],
   "source": []
  }
 ],
 "metadata": {
  "kernelspec": {
   "display_name": "python27",
   "language": "python",
   "name": "python27"
  },
  "language_info": {
   "codemirror_mode": {
    "name": "ipython",
    "version": 2
   },
   "file_extension": ".py",
   "mimetype": "text/x-python",
   "name": "python",
   "nbconvert_exporter": "python",
   "pygments_lexer": "ipython2",
   "version": "2.7.13"
  }
 },
 "nbformat": 4,
 "nbformat_minor": 2
}
