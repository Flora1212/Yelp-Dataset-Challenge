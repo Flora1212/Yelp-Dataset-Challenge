{
 "cells": [
  {
   "cell_type": "markdown",
   "metadata": {},
   "source": [
    "# Yelp Data Challenge - Clustering and PCA"
   ]
  },
  {
   "cell_type": "markdown",
   "metadata": {},
   "source": [
    "### Flora Li"
   ]
  },
  {
   "cell_type": "markdown",
   "metadata": {},
   "source": [
    "## Goal\n",
    "***1. Cluster the review text data for all the restaurants: ***\n",
    "<br>\n",
    "(1) Define variables: feature variables - text, target variable - stars ( less than 5-stars imperfect,  equals 5-stars perfect)\n",
    "<br>\n",
    "(2) Split into train and test dataset\n",
    "<br>\n",
    "(3) Get NLP representation of the documents: quantify data in text documents (TF-IDF)\n",
    "<br>\n",
    "(4) Cluster text reviews with KMeans\n",
    "\n",
    "***2. Cluster all the reviews of the most reviewed restaurant***\n",
    "<br>\n",
    "most_reviewed_restaurant = df['business_id'].value_counts().index[0]\n",
    "\n",
    "***3. Use PCA to reduce dimensionality***\n",
    "<br>\n",
    "(1) Use PCA to transform data: reduce to 50 dimension\n",
    "<br>\n",
    "(2) Measure variance explained by each principal componet\n",
    "<br>\n",
    "(3) Classifying positive/negative review (5 stars/ less than 5 stars) with PCA preprocessing: logistic regression, random forest\n"
   ]
  },
  {
   "cell_type": "code",
   "execution_count": 76,
   "metadata": {
    "collapsed": true
   },
   "outputs": [],
   "source": [
    "import pandas as pd\n",
    "import numpy as np\n",
    "import matplotlib.pyplot as plt\n",
    "% matplotlib inline\n",
    "plt.style.use(\"ggplot\")"
   ]
  },
  {
   "cell_type": "code",
   "execution_count": 77,
   "metadata": {
    "collapsed": true
   },
   "outputs": [],
   "source": [
    "df = pd.read_csv('last_2_years_restaurant_reviews1.csv')"
   ]
  },
  {
   "cell_type": "code",
   "execution_count": 168,
   "metadata": {},
   "outputs": [
    {
     "data": {
      "text/html": [
       "<div>\n",
       "<style>\n",
       "    .dataframe thead tr:only-child th {\n",
       "        text-align: right;\n",
       "    }\n",
       "\n",
       "    .dataframe thead th {\n",
       "        text-align: left;\n",
       "    }\n",
       "\n",
       "    .dataframe tbody tr th {\n",
       "        vertical-align: top;\n",
       "    }\n",
       "</style>\n",
       "<table border=\"1\" class=\"dataframe\">\n",
       "  <thead>\n",
       "    <tr style=\"text-align: right;\">\n",
       "      <th></th>\n",
       "      <th>business_id</th>\n",
       "      <th>name</th>\n",
       "      <th>categories</th>\n",
       "      <th>avg_stars</th>\n",
       "      <th>cool</th>\n",
       "      <th>date</th>\n",
       "      <th>funny</th>\n",
       "      <th>review_id</th>\n",
       "      <th>stars</th>\n",
       "      <th>text</th>\n",
       "      <th>useful</th>\n",
       "      <th>user_id</th>\n",
       "      <th>favorable</th>\n",
       "    </tr>\n",
       "  </thead>\n",
       "  <tbody>\n",
       "    <tr>\n",
       "      <th>0</th>\n",
       "      <td>--9e1ONYQuAa-CB_Rrw7Tw</td>\n",
       "      <td>Delmonico Steakhouse</td>\n",
       "      <td>[Steakhouses, Cajun/Creole, Restaurants]</td>\n",
       "      <td>4.0</td>\n",
       "      <td>1</td>\n",
       "      <td>2016-05-17</td>\n",
       "      <td>0</td>\n",
       "      <td>0Qc1THNHSapDL7cv-ZzW5g</td>\n",
       "      <td>5</td>\n",
       "      <td>What can I say.. Wowzers! Probably one of the ...</td>\n",
       "      <td>0</td>\n",
       "      <td>4LxKRRIikhr65GfPDW626w</td>\n",
       "      <td>True</td>\n",
       "    </tr>\n",
       "    <tr>\n",
       "      <th>1</th>\n",
       "      <td>--9e1ONYQuAa-CB_Rrw7Tw</td>\n",
       "      <td>Delmonico Steakhouse</td>\n",
       "      <td>[Steakhouses, Cajun/Creole, Restaurants]</td>\n",
       "      <td>4.0</td>\n",
       "      <td>0</td>\n",
       "      <td>2017-01-20</td>\n",
       "      <td>0</td>\n",
       "      <td>L8lo5SKXfZRlbn1bpPiC9w</td>\n",
       "      <td>5</td>\n",
       "      <td>Went here for guys weekend. Unbelievable. Ravi...</td>\n",
       "      <td>0</td>\n",
       "      <td>nT8zgjoc-PbdBoQsFEXFLw</td>\n",
       "      <td>True</td>\n",
       "    </tr>\n",
       "    <tr>\n",
       "      <th>2</th>\n",
       "      <td>--9e1ONYQuAa-CB_Rrw7Tw</td>\n",
       "      <td>Delmonico Steakhouse</td>\n",
       "      <td>[Steakhouses, Cajun/Creole, Restaurants]</td>\n",
       "      <td>4.0</td>\n",
       "      <td>52</td>\n",
       "      <td>2016-09-25</td>\n",
       "      <td>30</td>\n",
       "      <td>6eUT3IwwWPP3CZkAhxqOIw</td>\n",
       "      <td>5</td>\n",
       "      <td>One word my friends: tableside!!! Yes, tablesi...</td>\n",
       "      <td>56</td>\n",
       "      <td>7RlyCglsIzhBn081inwvcg</td>\n",
       "      <td>True</td>\n",
       "    </tr>\n",
       "    <tr>\n",
       "      <th>3</th>\n",
       "      <td>--9e1ONYQuAa-CB_Rrw7Tw</td>\n",
       "      <td>Delmonico Steakhouse</td>\n",
       "      <td>[Steakhouses, Cajun/Creole, Restaurants]</td>\n",
       "      <td>4.0</td>\n",
       "      <td>1</td>\n",
       "      <td>2017-02-12</td>\n",
       "      <td>0</td>\n",
       "      <td>3cnTdE45VrsS0o4cVhfGog</td>\n",
       "      <td>3</td>\n",
       "      <td>Located inside my favorite hotel Venetian, Del...</td>\n",
       "      <td>1</td>\n",
       "      <td>rOIrilMC7VFwFVBeQNiKMw</td>\n",
       "      <td>False</td>\n",
       "    </tr>\n",
       "    <tr>\n",
       "      <th>4</th>\n",
       "      <td>--9e1ONYQuAa-CB_Rrw7Tw</td>\n",
       "      <td>Delmonico Steakhouse</td>\n",
       "      <td>[Steakhouses, Cajun/Creole, Restaurants]</td>\n",
       "      <td>4.0</td>\n",
       "      <td>0</td>\n",
       "      <td>2016-10-30</td>\n",
       "      <td>0</td>\n",
       "      <td>tYrSbjX3QgZGBZuQ3n8g6w</td>\n",
       "      <td>5</td>\n",
       "      <td>After the most incredible service, delicious m...</td>\n",
       "      <td>2</td>\n",
       "      <td>PiWlV_UC_-SXqyxQM9fAtw</td>\n",
       "      <td>True</td>\n",
       "    </tr>\n",
       "  </tbody>\n",
       "</table>\n",
       "</div>"
      ],
      "text/plain": [
       "              business_id                  name  \\\n",
       "0  --9e1ONYQuAa-CB_Rrw7Tw  Delmonico Steakhouse   \n",
       "1  --9e1ONYQuAa-CB_Rrw7Tw  Delmonico Steakhouse   \n",
       "2  --9e1ONYQuAa-CB_Rrw7Tw  Delmonico Steakhouse   \n",
       "3  --9e1ONYQuAa-CB_Rrw7Tw  Delmonico Steakhouse   \n",
       "4  --9e1ONYQuAa-CB_Rrw7Tw  Delmonico Steakhouse   \n",
       "\n",
       "                                 categories  avg_stars  cool        date  \\\n",
       "0  [Steakhouses, Cajun/Creole, Restaurants]        4.0     1  2016-05-17   \n",
       "1  [Steakhouses, Cajun/Creole, Restaurants]        4.0     0  2017-01-20   \n",
       "2  [Steakhouses, Cajun/Creole, Restaurants]        4.0    52  2016-09-25   \n",
       "3  [Steakhouses, Cajun/Creole, Restaurants]        4.0     1  2017-02-12   \n",
       "4  [Steakhouses, Cajun/Creole, Restaurants]        4.0     0  2016-10-30   \n",
       "\n",
       "   funny               review_id  stars  \\\n",
       "0      0  0Qc1THNHSapDL7cv-ZzW5g      5   \n",
       "1      0  L8lo5SKXfZRlbn1bpPiC9w      5   \n",
       "2     30  6eUT3IwwWPP3CZkAhxqOIw      5   \n",
       "3      0  3cnTdE45VrsS0o4cVhfGog      3   \n",
       "4      0  tYrSbjX3QgZGBZuQ3n8g6w      5   \n",
       "\n",
       "                                                text  useful  \\\n",
       "0  What can I say.. Wowzers! Probably one of the ...       0   \n",
       "1  Went here for guys weekend. Unbelievable. Ravi...       0   \n",
       "2  One word my friends: tableside!!! Yes, tablesi...      56   \n",
       "3  Located inside my favorite hotel Venetian, Del...       1   \n",
       "4  After the most incredible service, delicious m...       2   \n",
       "\n",
       "                  user_id  favorable  \n",
       "0  4LxKRRIikhr65GfPDW626w       True  \n",
       "1  nT8zgjoc-PbdBoQsFEXFLw       True  \n",
       "2  7RlyCglsIzhBn081inwvcg       True  \n",
       "3  rOIrilMC7VFwFVBeQNiKMw      False  \n",
       "4  PiWlV_UC_-SXqyxQM9fAtw       True  "
      ]
     },
     "execution_count": 168,
     "metadata": {},
     "output_type": "execute_result"
    }
   ],
   "source": [
    "df.head()"
   ]
  },
  {
   "cell_type": "code",
   "execution_count": 79,
   "metadata": {},
   "outputs": [
    {
     "name": "stdout",
     "output_type": "stream",
     "text": [
      "<class 'pandas.core.frame.DataFrame'>\n",
      "RangeIndex: 338573 entries, 0 to 338572\n",
      "Data columns (total 12 columns):\n",
      "business_id    338573 non-null object\n",
      "name           338573 non-null object\n",
      "categories     338573 non-null object\n",
      "avg_stars      338573 non-null float64\n",
      "cool           338573 non-null int64\n",
      "date           338573 non-null object\n",
      "funny          338573 non-null int64\n",
      "review_id      338573 non-null object\n",
      "stars          338573 non-null int64\n",
      "text           338573 non-null object\n",
      "useful         338573 non-null int64\n",
      "user_id        338573 non-null object\n",
      "dtypes: float64(1), int64(4), object(7)\n",
      "memory usage: 31.0+ MB\n"
     ]
    }
   ],
   "source": [
    "df.info()"
   ]
  },
  {
   "cell_type": "markdown",
   "metadata": {},
   "source": [
    "## 1. Cluster the review text data for all the restaurants"
   ]
  },
  {
   "cell_type": "markdown",
   "metadata": {},
   "source": [
    "### Define your feature variables, here is the text of the review"
   ]
  },
  {
   "cell_type": "code",
   "execution_count": 80,
   "metadata": {
    "collapsed": true
   },
   "outputs": [],
   "source": [
    "# Take the values of the column that contains review text data, save to a variable named \"documents\"\n",
    "documents = df['text'].values\n",
    "# use .values to convert documents be numpy array."
   ]
  },
  {
   "cell_type": "code",
   "execution_count": 81,
   "metadata": {},
   "outputs": [
    {
     "data": {
      "text/plain": [
       "numpy.ndarray"
      ]
     },
     "execution_count": 81,
     "metadata": {},
     "output_type": "execute_result"
    }
   ],
   "source": [
    "type(documents)"
   ]
  },
  {
   "cell_type": "markdown",
   "metadata": {},
   "source": [
    "### Define your target variable (any categorical variable that may be meaningful)"
   ]
  },
  {
   "cell_type": "markdown",
   "metadata": {},
   "source": [
    "#### For example, I am interested in perfect (5 stars) and imperfect (1-4 stars) rating"
   ]
  },
  {
   "cell_type": "code",
   "execution_count": 82,
   "metadata": {
    "collapsed": true
   },
   "outputs": [],
   "source": [
    "# Make a column and take the values, save to a variable named \"target\"\n",
    "imperfect = df['stars'] < 5\n",
    "perfect = df['stars'] == 5\n",
    "target = perfect.values"
   ]
  },
  {
   "cell_type": "code",
   "execution_count": 83,
   "metadata": {},
   "outputs": [
    {
     "data": {
      "text/plain": [
       "(pandas.core.series.Series, numpy.ndarray)"
      ]
     },
     "execution_count": 83,
     "metadata": {},
     "output_type": "execute_result"
    }
   ],
   "source": [
    "type(perfect), type(target)"
   ]
  },
  {
   "cell_type": "code",
   "execution_count": 84,
   "metadata": {},
   "outputs": [
    {
     "data": {
      "text/plain": [
       "array([ True,  True,  True, False,  True], dtype=bool)"
      ]
     },
     "execution_count": 84,
     "metadata": {},
     "output_type": "execute_result"
    }
   ],
   "source": [
    "target[:5]"
   ]
  },
  {
   "cell_type": "markdown",
   "metadata": {},
   "source": [
    "#### You may want to look at the statistic of the target variable"
   ]
  },
  {
   "cell_type": "code",
   "execution_count": 85,
   "metadata": {},
   "outputs": [
    {
     "data": {
      "text/plain": [
       "(0.46748264037593074, 0.49894150090274003)"
      ]
     },
     "execution_count": 85,
     "metadata": {},
     "output_type": "execute_result"
    }
   ],
   "source": [
    "target.mean(), target.std()"
   ]
  },
  {
   "cell_type": "code",
   "execution_count": 86,
   "metadata": {},
   "outputs": [
    {
     "data": {
      "text/plain": [
       "((338573L,), (338573L,))"
      ]
     },
     "execution_count": 86,
     "metadata": {},
     "output_type": "execute_result"
    }
   ],
   "source": [
    "# dimensions of target and feature variables\n",
    "target.shape, documents.shape"
   ]
  },
  {
   "cell_type": "markdown",
   "metadata": {},
   "source": [
    "### Create training dataset and test dataset"
   ]
  },
  {
   "cell_type": "code",
   "execution_count": 87,
   "metadata": {
    "collapsed": true
   },
   "outputs": [],
   "source": [
    "from sklearn.cross_validation import train_test_split"
   ]
  },
  {
   "cell_type": "code",
   "execution_count": 88,
   "metadata": {
    "collapsed": true
   },
   "outputs": [],
   "source": [
    "# documents is your X, target is your y\n",
    "# Now split the data to training set and test set\n",
    "# You may want to start with a big \"test_size\", since large training set can easily crash your laptop.\n",
    "documents_train, documents_test, target_train, target_test= train_test_split(\n",
    "    documents, \n",
    "    target, \n",
    "    test_size = 0.3, \n",
    "    random_state=12)"
   ]
  },
  {
   "cell_type": "markdown",
   "metadata": {},
   "source": [
    "### Get NLP representation of the documents\n",
    "\n",
    "#### Fit TfidfVectorizer with training data only, then tranform all the data to tf-idf"
   ]
  },
  {
   "cell_type": "code",
   "execution_count": 89,
   "metadata": {
    "collapsed": true
   },
   "outputs": [],
   "source": [
    "from sklearn.feature_extraction.text import TfidfVectorizer"
   ]
  },
  {
   "cell_type": "code",
   "execution_count": 90,
   "metadata": {
    "collapsed": true
   },
   "outputs": [],
   "source": [
    "# Create TfidfVectorizer, and name it vectorizer, choose a reasonable max_features, e.g. 1000\n",
    "vectorizer = TfidfVectorizer(stop_words = 'english',max_features = 1000)"
   ]
  },
  {
   "cell_type": "code",
   "execution_count": 91,
   "metadata": {
    "collapsed": true
   },
   "outputs": [],
   "source": [
    "# Train the model with your training data - documents_train\n",
    "vectors_train = vectorizer.fit_transform(documents_train).toarray()"
   ]
  },
  {
   "cell_type": "code",
   "execution_count": 92,
   "metadata": {},
   "outputs": [
    {
     "data": {
      "text/plain": [
       "array([[ 0.        ,  0.        ,  0.        , ...,  0.        ,\n",
       "         0.        ,  0.50100549],\n",
       "       [ 0.        ,  0.        ,  0.        , ...,  0.        ,\n",
       "         0.        ,  0.        ],\n",
       "       [ 0.        ,  0.        ,  0.        , ...,  0.        ,\n",
       "         0.        ,  0.        ],\n",
       "       ..., \n",
       "       [ 0.        ,  0.        ,  0.        , ...,  0.        ,\n",
       "         0.        ,  0.        ],\n",
       "       [ 0.        ,  0.        ,  0.        , ...,  0.        ,\n",
       "         0.        ,  0.        ],\n",
       "       [ 0.        ,  0.        ,  0.        , ...,  0.        ,\n",
       "         0.        ,  0.        ]])"
      ]
     },
     "execution_count": 92,
     "metadata": {},
     "output_type": "execute_result"
    }
   ],
   "source": [
    "vectors_train"
   ]
  },
  {
   "cell_type": "code",
   "execution_count": 93,
   "metadata": {
    "collapsed": true
   },
   "outputs": [],
   "source": [
    "# Get the vocab of your tfidf\n",
    "features = vectorizer.get_feature_names()"
   ]
  },
  {
   "cell_type": "code",
   "execution_count": 94,
   "metadata": {
    "collapsed": true
   },
   "outputs": [],
   "source": [
    "# Use the trained model to transform all the reviews - documents\n",
    "vectors_documents = vectorizer.transform(documents).toarray()"
   ]
  },
  {
   "cell_type": "code",
   "execution_count": 95,
   "metadata": {},
   "outputs": [
    {
     "data": {
      "text/plain": [
       "numpy.ndarray"
      ]
     },
     "execution_count": 95,
     "metadata": {},
     "output_type": "execute_result"
    }
   ],
   "source": [
    "type(vectors_documents)"
   ]
  },
  {
   "cell_type": "markdown",
   "metadata": {},
   "source": [
    "### Cluster reviews with KMeans"
   ]
  },
  {
   "cell_type": "markdown",
   "metadata": {},
   "source": [
    "#### Fit k-means clustering with the training vectors and apply it on all the data"
   ]
  },
  {
   "cell_type": "code",
   "execution_count": 96,
   "metadata": {},
   "outputs": [
    {
     "name": "stdout",
     "output_type": "stream",
     "text": [
      "Fit KMeans model cost 948.498000%s\n"
     ]
    }
   ],
   "source": [
    "# Fit Kmeans clustering with the training vectors\n",
    "from time import time\n",
    "t0=time()\n",
    "\n",
    "from sklearn.cluster import KMeans\n",
    "\n",
    "kmeans = KMeans()\n",
    "\n",
    "kmeans.fit(vectors_train)\n",
    "\n",
    "t1=time()\n",
    "\n",
    "print \"Fit KMeans model cost {0:4f}%s\".format(t1-t0)"
   ]
  },
  {
   "cell_type": "markdown",
   "metadata": {},
   "source": [
    "#### Make predictions on all your data"
   ]
  },
  {
   "cell_type": "code",
   "execution_count": 97,
   "metadata": {
    "collapsed": true
   },
   "outputs": [],
   "source": [
    "# assign cluster labels to all reviews\n",
    "assigned_cluster = kmeans.predict(vectors_documents)"
   ]
  },
  {
   "cell_type": "markdown",
   "metadata": {},
   "source": [
    "#### Inspect the centroids\n",
    "To find out what \"topics\" Kmeans has discovered, we must inspect the centroids. Print out the centroids of the Kmeans clustering.\n",
    "\n",
    "   These centroids are simply a bunch of vectors.  To make any sense of them we need to map these vectors back into our 'word space'.  Think of each feature/dimension of the centroid vector as representing the \"average\" review or the average occurances of words for that cluster."
   ]
  },
  {
   "cell_type": "code",
   "execution_count": 98,
   "metadata": {},
   "outputs": [
    {
     "name": "stdout",
     "output_type": "stream",
     "text": [
      "clusterd centeres:\n",
      "(8L, 1000L)\n"
     ]
    },
    {
     "data": {
      "text/plain": [
       "numpy.ndarray"
      ]
     },
     "execution_count": 98,
     "metadata": {},
     "output_type": "execute_result"
    }
   ],
   "source": [
    "# cluster centers shape\n",
    "print \"clusterd centeres:\"\n",
    "print kmeans.cluster_centers_.shape\n",
    "type(kmeans.cluster_centers_)\n",
    "# means 8 clusters, and 1000 features (a word is a feature) in each cluster\n",
    "# note: numpy matrices are 2-dimentional, while numpy arrays can be N-dimentional. Matrix objects are a subclass of ndarray."
   ]
  },
  {
   "cell_type": "markdown",
   "metadata": {},
   "source": [
    "#### Find the top 10 features for each cluster.\n",
    "For topics we are only really interested in the most present words, i.e. features/dimensions with the greatest representation in the centroid.  Print out the top ten words for each centroid.\n",
    "\n",
    "* Sort each centroid vector to find the top 10 features\n",
    "* Go back to your vectorizer object to find out what words each of these features corresponds to.\n"
   ]
  },
  {
   "cell_type": "code",
   "execution_count": 99,
   "metadata": {
    "scrolled": true
   },
   "outputs": [
    {
     "data": {
      "text/plain": [
       "array([[148, 336, 326, 720, 364, 598, 640, 371, 477, 747],\n",
       "       [326, 597, 889, 449, 775, 540, 123, 477, 230, 365],\n",
       "       [640, 326,  77, 934, 222,  26, 502, 775, 477, 889],\n",
       "       [638, 202, 364, 640, 371, 796, 143,  77, 597, 449],\n",
       "       [364, 326, 693, 640, 775, 669, 566, 477, 371, 449],\n",
       "       [109, 340, 110, 364, 143, 779, 640, 326, 371, 598],\n",
       "       [859, 729, 728, 640,  53, 371, 364, 334, 320, 775],\n",
       "       [371, 326, 775, 640,  26, 338,  51, 825, 221,  41]], dtype=int64)"
      ]
     },
     "execution_count": 99,
     "metadata": {},
     "output_type": "execute_result"
    }
   ],
   "source": [
    "# sort top 10 features for i centroid\n",
    "n_feature = 10\n",
    "top_centroids = kmeans.cluster_centers_.argsort()[:,-1:-n_feature-1:-1] #sort from big to small (desc)\n",
    "# argsort returns index\n",
    "top_centroids"
   ]
  },
  {
   "cell_type": "code",
   "execution_count": 100,
   "metadata": {},
   "outputs": [
    {
     "data": {
      "text/plain": [
       "array([148, 336, 326, 720, 364, 598, 640, 371, 477, 747], dtype=int64)"
      ]
     },
     "execution_count": 100,
     "metadata": {},
     "output_type": "execute_result"
    }
   ],
   "source": [
    "top_centroids[0]"
   ]
  },
  {
   "cell_type": "code",
   "execution_count": 101,
   "metadata": {},
   "outputs": [
    {
     "name": "stdout",
     "output_type": "stream",
     "text": [
      "top 10 features for each cluster:\n",
      "0: chicken, fried, food, rice, good, ordered, place, great, like, sauce\n",
      "1: food, order, time, just, service, minutes, came, like, didn, got\n",
      "2: place, food, best, vegas, delicious, amazing, love, service, like, time\n",
      "3: pizza, crust, good, place, great, slice, cheese, best, order, just\n",
      "4: good, food, really, place, service, pretty, nice, like, great, just\n",
      "5: burger, fries, burgers, good, cheese, shake, place, food, great, ordered\n",
      "6: sushi, rolls, roll, place, ayce, great, good, fresh, fish, service\n",
      "7: great, food, service, place, amazing, friendly, awesome, staff, definitely, atmosphere\n"
     ]
    }
   ],
   "source": [
    "print \"top 10 features for each cluster:\"\n",
    "for num, centroid in enumerate(top_centroids):\n",
    "    print \"%d: %s\" % (num, \", \".join(features[i] for i in centroid)) \n",
    "# num is used to count the number of centroids, and one row in top_centroids is a centroid"
   ]
  },
  {
   "cell_type": "markdown",
   "metadata": {},
   "source": [
    "#### Try different k\n",
    "If you set k == to a different number, how does the top features change?"
   ]
  },
  {
   "cell_type": "code",
   "execution_count": 102,
   "metadata": {},
   "outputs": [
    {
     "data": {
      "text/plain": [
       "KMeans(algorithm='auto', copy_x=True, init='k-means++', max_iter=300,\n",
       "    n_clusters=6, n_init=10, n_jobs=1, precompute_distances='auto',\n",
       "    random_state=None, tol=0.0001, verbose=0)"
      ]
     },
     "execution_count": 102,
     "metadata": {},
     "output_type": "execute_result"
    }
   ],
   "source": [
    "# kmeans with 6 clusters\n",
    "kmeans = KMeans(n_clusters=6)\n",
    "kmeans.fit(vectors_train)"
   ]
  },
  {
   "cell_type": "markdown",
   "metadata": {},
   "source": [
    "#### Print out the rating and review of a random sample of the reviews assigned to each cluster to get a sense of the cluster."
   ]
  },
  {
   "cell_type": "code",
   "execution_count": 103,
   "metadata": {},
   "outputs": [
    {
     "name": "stdout",
     "output_type": "stream",
     "text": [
      "cluster 0:\n",
      "    5\n",
      "I was recommended here from a friend and this is the best place to go to! All healthy choices and extremely delicious! I had a chicken Caesar wrap and my brothers got another wrap and a pepperoni pizza bread. The line was long but it went by so fast. Cashiers were very friendly and nice and are fast. We didn't wait long for our order. Definitely recommend if you want something healthy, filling, and all for a good price!\n",
      "    4\n",
      "Hubby had the steak sandwich. He loved it. I had the chicken fingers on frys. \r\n",
      "We had vouchers for lunch. And chose not to upgrade the the grill experience. But we watched lots of people who were. And  I will be back to give that a try. YUM.\n",
      "cluster 1:\n",
      "    4\n",
      "Food was great. Parking sucked. My living room might be bigger than the dining room, the biggest table only had 4 seats. Went there (Dean Martin Dr. location) with some friends from San Diego. Our party was three adults and two children. They have a kids menu, but the very small venue isn't very family friendly. The smallest child sat on mom's lap as there was no room to add a high chair to the end of the table.\n",
      "    2\n",
      "On my way to the Switch Data Center for a quick bite with a couple guys before our 12 our work night.  Place was clean but it was empty at 5pm on a Saturday night.  Two fellas behind the counter we ordered one a time.  These guys are sloooow. \r\n",
      "At the end, we ordered 3 foot longs, 3 drinks, and chips.  The same guy that made our subs had to ask me what we ordered!  HUH?  What just happened?  Anyway, subway subs are tasty fresh, but this location has to go if they have people like that working there.  Ill still hit up other subways, just not this one.\n",
      "cluster 2:\n",
      "    5\n",
      "Another good experience here today. I needed my ghormeh sabzi herbs, kidney beans, eggplant, tomatoes and onion. They had fresh produce, all shelves stocked and excellent customer service. The owner and his wife are so professional and friendly. I highly recommend Zaytoon for all of your Persian/Middle Eastern grocery needs!\n",
      "    4\n",
      "Had a lot of fun here while in Vegas on a work trip. The beers were good and so was the food. They had live music that was a mix of German and American. The waitresses were all super friendly and danced. It's set up like a hall and you sit at long tables with strangers if you're not in a big group but that's part of the fun! As you get drunk off the liter beers maybe take a shot but be warned if you do the waitress will spank your booty with a paddle. Saw one waitress who was at least 6'2\" smacked guy's asses so hard I was thinking they probably couldn't sit for awhile. HA! I opted out of the shots and enjoyed the pain of the other patrons.\n",
      "cluster 3:\n",
      "    5\n",
      "I don't know why the low rating. I love this pizza. I've lived all over the country and this is some sort f the best ever. We always get the monster. Awesome.\n",
      "    5\n",
      "I visited here at the end of my Vegas vacation because I had heard they offered vegan cheese for pizza. I was so surprised when I turned the menu over and there was a whole separate vegan section! They offer meatless meatballs and chicken strips (both gardein) as well as Daiya cheese. They had a number of appetizers, pizza selections and even desserts! I ordered the bbq chicken pizza and it was delicious!! I wish I could have ordered more (especially dessert) but I had a flight to catch.\n",
      "cluster 4:\n",
      "    5\n",
      "Very good food here. Tried many dishes so I do not remember them all, but the beef carpaccio is the best I have ever had so far...could taste the quality in the meat because it was so fresh. Also had the tuna carpaccio which was good as well, but beef was still the best. Went with scallops for the main course which our server highly recommended, and was glad I did. I'm a fan of scallops and it did not disappoint, the portion was good as well. The truffle fries were also very good that even though I was pretty full, I just couldn't help picking at it. \r\n",
      "\r\n",
      "Will definitely return to Olives the next time I'm in Vegas and order the beef carpaccio and truffle fries again!\n",
      "    5\n",
      "Great food! Service was a little slow but they were really busy as we went on mothers day. No where else is Vegas can you find good pr food.\n",
      "cluster 5:\n",
      "    2\n",
      "I can only give this place 2 stars.\r\n",
      "The waiter Andre I think it was looked like he didn't even wanna speak or recommend nothing good for us to have or what our specials can come with. \r\n",
      "Another reason he looked drugged out weird looking, but the food was alright burger didn't have no flavor so I just took it To-go :/\n",
      "    5\n",
      "Visited for lunch. Nice atmosphere, didn't have to wait. Ordered the chips with curry sauce to start. Chips were very crispy but great with the sauce, we really enjoyed them. We also ordered the bangers and mash and a burger with cheese, bacon and egg. We both enjoyed our meals and I would recommend this restaurant to others.\n"
     ]
    }
   ],
   "source": [
    "# randomly select two reviews in each cluster from the whole data\n",
    "for i in range(kmeans.n_clusters):                                       \n",
    "    cluster = np.arange(0, vectors_documents.shape[0])[assigned_cluster==i]  #index of cluster\n",
    "    sample_reviews = np.random.choice(cluster, 2, replace=False)\n",
    "    print \"cluster %d:\" % i\n",
    "    for review in sample_reviews:\n",
    "        print \"    %d\\n%%s\" % df.loc[review]['stars'] % df.loc[review]['text'] "
   ]
  },
  {
   "cell_type": "markdown",
   "metadata": {},
   "source": [
    "Because randomly selected, sometimes stars in each cluster are similar, but sometimes not."
   ]
  },
  {
   "cell_type": "markdown",
   "metadata": {},
   "source": [
    "## 2. Cluster all the reviews of the most reviewed restaurant\n",
    "Let's find the most reviewed restaurant and analyze its reviews"
   ]
  },
  {
   "cell_type": "code",
   "execution_count": 104,
   "metadata": {},
   "outputs": [
    {
     "data": {
      "text/html": [
       "<div>\n",
       "<style>\n",
       "    .dataframe thead tr:only-child th {\n",
       "        text-align: right;\n",
       "    }\n",
       "\n",
       "    .dataframe thead th {\n",
       "        text-align: left;\n",
       "    }\n",
       "\n",
       "    .dataframe tbody tr th {\n",
       "        vertical-align: top;\n",
       "    }\n",
       "</style>\n",
       "<table border=\"1\" class=\"dataframe\">\n",
       "  <thead>\n",
       "    <tr style=\"text-align: right;\">\n",
       "      <th></th>\n",
       "      <th>index</th>\n",
       "      <th>business_id</th>\n",
       "      <th>name</th>\n",
       "      <th>categories</th>\n",
       "      <th>avg_stars</th>\n",
       "      <th>cool</th>\n",
       "      <th>date</th>\n",
       "      <th>funny</th>\n",
       "      <th>review_id</th>\n",
       "      <th>stars</th>\n",
       "      <th>text</th>\n",
       "      <th>useful</th>\n",
       "      <th>user_id</th>\n",
       "    </tr>\n",
       "  </thead>\n",
       "  <tbody>\n",
       "    <tr>\n",
       "      <th>0</th>\n",
       "      <td>250334</td>\n",
       "      <td>hihud--QRriCYZw1zZvW4g</td>\n",
       "      <td>Gangnam Asian BBQ Dining</td>\n",
       "      <td>[Restaurants, Barbeque, Asian Fusion, Japanese...</td>\n",
       "      <td>4.5</td>\n",
       "      <td>0</td>\n",
       "      <td>2016-03-26</td>\n",
       "      <td>0</td>\n",
       "      <td>kd4UZwpH86KUxGr4pwafHQ</td>\n",
       "      <td>5</td>\n",
       "      <td>The food was soooo good. Defintiely worth the ...</td>\n",
       "      <td>0</td>\n",
       "      <td>mW_hZQb_ZHiV-EhuXn9NkQ</td>\n",
       "    </tr>\n",
       "    <tr>\n",
       "      <th>1</th>\n",
       "      <td>250335</td>\n",
       "      <td>hihud--QRriCYZw1zZvW4g</td>\n",
       "      <td>Gangnam Asian BBQ Dining</td>\n",
       "      <td>[Restaurants, Barbeque, Asian Fusion, Japanese...</td>\n",
       "      <td>4.5</td>\n",
       "      <td>0</td>\n",
       "      <td>2015-12-25</td>\n",
       "      <td>0</td>\n",
       "      <td>hb-vHJj08C9PcPk5GhvmLA</td>\n",
       "      <td>5</td>\n",
       "      <td>The BBQ is yummy, and the soup is delicious. B...</td>\n",
       "      <td>0</td>\n",
       "      <td>DEmhjzcwgAfVI6Z23qxlIQ</td>\n",
       "    </tr>\n",
       "    <tr>\n",
       "      <th>2</th>\n",
       "      <td>250336</td>\n",
       "      <td>hihud--QRriCYZw1zZvW4g</td>\n",
       "      <td>Gangnam Asian BBQ Dining</td>\n",
       "      <td>[Restaurants, Barbeque, Asian Fusion, Japanese...</td>\n",
       "      <td>4.5</td>\n",
       "      <td>1</td>\n",
       "      <td>2016-01-14</td>\n",
       "      <td>0</td>\n",
       "      <td>k4QFvv-0Es9n7864hEfaZw</td>\n",
       "      <td>5</td>\n",
       "      <td>I ate here for the first time with my Dad. Our...</td>\n",
       "      <td>1</td>\n",
       "      <td>9imSnJsjKTSTMlyMZ3EYYg</td>\n",
       "    </tr>\n",
       "    <tr>\n",
       "      <th>3</th>\n",
       "      <td>250337</td>\n",
       "      <td>hihud--QRriCYZw1zZvW4g</td>\n",
       "      <td>Gangnam Asian BBQ Dining</td>\n",
       "      <td>[Restaurants, Barbeque, Asian Fusion, Japanese...</td>\n",
       "      <td>4.5</td>\n",
       "      <td>1</td>\n",
       "      <td>2016-07-12</td>\n",
       "      <td>1</td>\n",
       "      <td>MSO2c0jJxffesZ5nyhChiA</td>\n",
       "      <td>5</td>\n",
       "      <td>Arguably the best Korean BBQ I've ever eaten!!...</td>\n",
       "      <td>1</td>\n",
       "      <td>GtikpvzhSeE4OszoFO1-3A</td>\n",
       "    </tr>\n",
       "    <tr>\n",
       "      <th>4</th>\n",
       "      <td>250338</td>\n",
       "      <td>hihud--QRriCYZw1zZvW4g</td>\n",
       "      <td>Gangnam Asian BBQ Dining</td>\n",
       "      <td>[Restaurants, Barbeque, Asian Fusion, Japanese...</td>\n",
       "      <td>4.5</td>\n",
       "      <td>0</td>\n",
       "      <td>2017-01-19</td>\n",
       "      <td>0</td>\n",
       "      <td>d97BSImX_nu-oQh-IL7H4Q</td>\n",
       "      <td>5</td>\n",
       "      <td>Amazing food and great service!   Enjoyed Kore...</td>\n",
       "      <td>0</td>\n",
       "      <td>-jEryluA1cM-rkkT6bwr9w</td>\n",
       "    </tr>\n",
       "  </tbody>\n",
       "</table>\n",
       "</div>"
      ],
      "text/plain": [
       "    index             business_id                      name  \\\n",
       "0  250334  hihud--QRriCYZw1zZvW4g  Gangnam Asian BBQ Dining   \n",
       "1  250335  hihud--QRriCYZw1zZvW4g  Gangnam Asian BBQ Dining   \n",
       "2  250336  hihud--QRriCYZw1zZvW4g  Gangnam Asian BBQ Dining   \n",
       "3  250337  hihud--QRriCYZw1zZvW4g  Gangnam Asian BBQ Dining   \n",
       "4  250338  hihud--QRriCYZw1zZvW4g  Gangnam Asian BBQ Dining   \n",
       "\n",
       "                                          categories  avg_stars  cool  \\\n",
       "0  [Restaurants, Barbeque, Asian Fusion, Japanese...        4.5     0   \n",
       "1  [Restaurants, Barbeque, Asian Fusion, Japanese...        4.5     0   \n",
       "2  [Restaurants, Barbeque, Asian Fusion, Japanese...        4.5     1   \n",
       "3  [Restaurants, Barbeque, Asian Fusion, Japanese...        4.5     1   \n",
       "4  [Restaurants, Barbeque, Asian Fusion, Japanese...        4.5     0   \n",
       "\n",
       "         date  funny               review_id  stars  \\\n",
       "0  2016-03-26      0  kd4UZwpH86KUxGr4pwafHQ      5   \n",
       "1  2015-12-25      0  hb-vHJj08C9PcPk5GhvmLA      5   \n",
       "2  2016-01-14      0  k4QFvv-0Es9n7864hEfaZw      5   \n",
       "3  2016-07-12      1  MSO2c0jJxffesZ5nyhChiA      5   \n",
       "4  2017-01-19      0  d97BSImX_nu-oQh-IL7H4Q      5   \n",
       "\n",
       "                                                text  useful  \\\n",
       "0  The food was soooo good. Defintiely worth the ...       0   \n",
       "1  The BBQ is yummy, and the soup is delicious. B...       0   \n",
       "2  I ate here for the first time with my Dad. Our...       1   \n",
       "3  Arguably the best Korean BBQ I've ever eaten!!...       1   \n",
       "4  Amazing food and great service!   Enjoyed Kore...       0   \n",
       "\n",
       "                  user_id  \n",
       "0  mW_hZQb_ZHiV-EhuXn9NkQ  \n",
       "1  DEmhjzcwgAfVI6Z23qxlIQ  \n",
       "2  9imSnJsjKTSTMlyMZ3EYYg  \n",
       "3  GtikpvzhSeE4OszoFO1-3A  \n",
       "4  -jEryluA1cM-rkkT6bwr9w  "
      ]
     },
     "execution_count": 104,
     "metadata": {},
     "output_type": "execute_result"
    }
   ],
   "source": [
    "# Find the business who got most reviews, get your filtered df, name it df_top_restaurant\n",
    "\n",
    "# df['business_id'].value_counts(): counting appearance of each business_id\n",
    "most_reviewed_restaurant = df['business_id'].value_counts().index[0]\n",
    "# Here, business_id is the index.\n",
    "\n",
    "# select rows of most reviewed restaurant\n",
    "df_top_restaurant = df[df['business_id']== most_reviewed_restaurant].copy().reset_index()\n",
    "\n",
    "# display head\n",
    "df_top_restaurant.head()"
   ]
  },
  {
   "cell_type": "code",
   "execution_count": 105,
   "metadata": {},
   "outputs": [
    {
     "name": "stdout",
     "output_type": "stream",
     "text": [
      "<class 'pandas.core.frame.DataFrame'>\n",
      "RangeIndex: 2771 entries, 0 to 2770\n",
      "Data columns (total 13 columns):\n",
      "index          2771 non-null int64\n",
      "business_id    2771 non-null object\n",
      "name           2771 non-null object\n",
      "categories     2771 non-null object\n",
      "avg_stars      2771 non-null float64\n",
      "cool           2771 non-null int64\n",
      "date           2771 non-null object\n",
      "funny          2771 non-null int64\n",
      "review_id      2771 non-null object\n",
      "stars          2771 non-null int64\n",
      "text           2771 non-null object\n",
      "useful         2771 non-null int64\n",
      "user_id        2771 non-null object\n",
      "dtypes: float64(1), int64(5), object(7)\n",
      "memory usage: 281.5+ KB\n"
     ]
    }
   ],
   "source": [
    "df_top_restaurant.info()"
   ]
  },
  {
   "cell_type": "markdown",
   "metadata": {},
   "source": [
    "We can see there are 2771 observations about the most reviewed restaurant."
   ]
  },
  {
   "cell_type": "markdown",
   "metadata": {},
   "source": [
    "We can also load restaurant profile information from the business dataset (optional)"
   ]
  },
  {
   "cell_type": "code",
   "execution_count": 106,
   "metadata": {},
   "outputs": [
    {
     "data": {
      "text/html": [
       "<div>\n",
       "<style>\n",
       "    .dataframe thead tr:only-child th {\n",
       "        text-align: right;\n",
       "    }\n",
       "\n",
       "    .dataframe thead th {\n",
       "        text-align: left;\n",
       "    }\n",
       "\n",
       "    .dataframe tbody tr th {\n",
       "        vertical-align: top;\n",
       "    }\n",
       "</style>\n",
       "<table border=\"1\" class=\"dataframe\">\n",
       "  <thead>\n",
       "    <tr style=\"text-align: right;\">\n",
       "      <th></th>\n",
       "      <th>address</th>\n",
       "      <th>attributes</th>\n",
       "      <th>business_id</th>\n",
       "      <th>categories</th>\n",
       "      <th>city</th>\n",
       "      <th>hours</th>\n",
       "      <th>is_open</th>\n",
       "      <th>latitude</th>\n",
       "      <th>longitude</th>\n",
       "      <th>name</th>\n",
       "      <th>neighborhood</th>\n",
       "      <th>postal_code</th>\n",
       "      <th>review_count</th>\n",
       "      <th>stars</th>\n",
       "      <th>state</th>\n",
       "    </tr>\n",
       "  </thead>\n",
       "  <tbody>\n",
       "    <tr>\n",
       "      <th>1477</th>\n",
       "      <td>4480 Paradise Rd</td>\n",
       "      <td>{u'GoodForMeal': {u'dessert': True, u'latenigh...</td>\n",
       "      <td>hihud--QRriCYZw1zZvW4g</td>\n",
       "      <td>[Restaurants, Barbeque, Asian Fusion, Japanese...</td>\n",
       "      <td>Las Vegas</td>\n",
       "      <td>{u'Monday': u'11:30-1:00', u'Tuesday': u'11:30...</td>\n",
       "      <td>1</td>\n",
       "      <td>36.108898</td>\n",
       "      <td>-115.151261</td>\n",
       "      <td>Gangnam Asian BBQ Dining</td>\n",
       "      <td>Eastside</td>\n",
       "      <td>89169</td>\n",
       "      <td>3180</td>\n",
       "      <td>4.5</td>\n",
       "      <td>NV</td>\n",
       "    </tr>\n",
       "  </tbody>\n",
       "</table>\n",
       "</div>"
      ],
      "text/plain": [
       "               address                                         attributes  \\\n",
       "1477  4480 Paradise Rd  {u'GoodForMeal': {u'dessert': True, u'latenigh...   \n",
       "\n",
       "                 business_id  \\\n",
       "1477  hihud--QRriCYZw1zZvW4g   \n",
       "\n",
       "                                             categories       city  \\\n",
       "1477  [Restaurants, Barbeque, Asian Fusion, Japanese...  Las Vegas   \n",
       "\n",
       "                                                  hours  is_open   latitude  \\\n",
       "1477  {u'Monday': u'11:30-1:00', u'Tuesday': u'11:30...        1  36.108898   \n",
       "\n",
       "       longitude                      name neighborhood postal_code  \\\n",
       "1477 -115.151261  Gangnam Asian BBQ Dining     Eastside       89169   \n",
       "\n",
       "      review_count  stars state  \n",
       "1477          3180    4.5    NV  "
      ]
     },
     "execution_count": 106,
     "metadata": {},
     "output_type": "execute_result"
    }
   ],
   "source": [
    "# Load business dataset (optional)\n",
    "import json\n",
    "import pandas as pd\n",
    "\n",
    "file_business = 'business.json'\n",
    "with open(file_business) as f:\n",
    "    df_business = pd.DataFrame(json.loads(line) for line in f)\n",
    "    \n",
    "# Take a look at the most reviewed restaurant's profile (optional)\n",
    "df_business[df_business['business_id']==most_reviewed_restaurant]"
   ]
  },
  {
   "cell_type": "code",
   "execution_count": 107,
   "metadata": {},
   "outputs": [
    {
     "data": {
      "text/plain": [
       "array([ [u'Restaurants', u'Barbeque', u'Asian Fusion', u'Japanese', u'Tapas/Small Plates', u'Korean']], dtype=object)"
      ]
     },
     "execution_count": 107,
     "metadata": {},
     "output_type": "execute_result"
    }
   ],
   "source": [
    "df_business[df_business['business_id'] == most_reviewed_restaurant]['categories'].values"
   ]
  },
  {
   "cell_type": "code",
   "execution_count": 108,
   "metadata": {},
   "outputs": [
    {
     "data": {
      "text/plain": [
       "array([ {u'GoodForMeal': {u'dessert': True, u'latenight': True, u'lunch': True, u'dinner': True, u'brunch': False, u'breakfast': False}, u'DogsAllowed': False, u'Alcohol': u'beer_and_wine', u'Caters': True, u'HasTV': True, u'GoodForKids': True, u'NoiseLevel': u'average', u'WiFi': u'free', u'RestaurantsAttire': u'casual', u'RestaurantsReservations': True, u'OutdoorSeating': False, u'BusinessAcceptsCreditCards': True, u'RestaurantsPriceRange2': 2, u'BikeParking': True, u'RestaurantsTableService': True, u'RestaurantsDelivery': False, u'Ambience': {u'romantic': False, u'intimate': False, u'classy': False, u'hipster': False, u'divey': False, u'touristy': False, u'trendy': True, u'upscale': False, u'casual': True}, u'RestaurantsTakeOut': True, u'RestaurantsGoodForGroups': True, u'WheelchairAccessible': True, u'BusinessParking': {u'garage': False, u'street': False, u'validated': False, u'lot': True, u'valet': False}}], dtype=object)"
      ]
     },
     "execution_count": 108,
     "metadata": {},
     "output_type": "execute_result"
    }
   ],
   "source": [
    "df_business[df_business['business_id'] == most_reviewed_restaurant]['attributes'].values"
   ]
  },
  {
   "cell_type": "markdown",
   "metadata": {},
   "source": [
    "### Vectorize the text feature"
   ]
  },
  {
   "cell_type": "code",
   "execution_count": 109,
   "metadata": {},
   "outputs": [
    {
     "data": {
      "text/plain": [
       "array([ 'The food was soooo good. Defintiely worth the stop. Happy hour prices are unbeatable. Overall, great experience.',\n",
       "       \"The BBQ is yummy, and the soup is delicious. BTW the waiter and waitress are friendly. I'll definitely come again.\",\n",
       "       'I ate here for the first time with my Dad. Our waiter explained everything and we ordered several random dishes to cook ourselves.\\r\\nFriendly service, great food and a truly unique dining experience!'], dtype=object)"
      ]
     },
     "execution_count": 109,
     "metadata": {},
     "output_type": "execute_result"
    }
   ],
   "source": [
    "# Take the values of the column that contains review text data, save to a variable named \"documents_top_restaurant\"\n",
    "documents_top_restaurant = df_top_restaurant['text'].values\n",
    "\n",
    "documents_top_restaurant[:3]"
   ]
  },
  {
   "cell_type": "markdown",
   "metadata": {},
   "source": [
    "### Define your target variable (for later classification use)"
   ]
  },
  {
   "cell_type": "markdown",
   "metadata": {},
   "source": [
    "#### Again, we look at perfect (5 stars) and imperfect (1-4 stars) rating"
   ]
  },
  {
   "cell_type": "code",
   "execution_count": 110,
   "metadata": {},
   "outputs": [
    {
     "data": {
      "text/plain": [
       "0    True\n",
       "1    True\n",
       "2    True\n",
       "3    True\n",
       "4    True\n",
       "Name: favorable, dtype: bool"
      ]
     },
     "execution_count": 110,
     "metadata": {},
     "output_type": "execute_result"
    }
   ],
   "source": [
    "df_top_restaurant['favorable'] = (df_top_restaurant['stars'] > 4)\n",
    "df_top_restaurant['favorable'][:5]"
   ]
  },
  {
   "cell_type": "code",
   "execution_count": 111,
   "metadata": {},
   "outputs": [
    {
     "data": {
      "text/plain": [
       "array([1, 1, 1, ..., 1, 0, 1])"
      ]
     },
     "execution_count": 111,
     "metadata": {},
     "output_type": "execute_result"
    }
   ],
   "source": [
    "target_top_restaurant = df_top_restaurant['favorable'].values.astype(int)\n",
    "target_top_restaurant"
   ]
  },
  {
   "cell_type": "markdown",
   "metadata": {},
   "source": [
    "#### Check the statistic of the target variable"
   ]
  },
  {
   "cell_type": "code",
   "execution_count": 112,
   "metadata": {},
   "outputs": [
    {
     "data": {
      "text/plain": [
       "(0.73439191627571276, 0.4416564610470442)"
      ]
     },
     "execution_count": 112,
     "metadata": {},
     "output_type": "execute_result"
    }
   ],
   "source": [
    "target_top_restaurant.mean(), target_top_restaurant.std()"
   ]
  },
  {
   "cell_type": "code",
   "execution_count": 113,
   "metadata": {},
   "outputs": [
    {
     "data": {
      "text/plain": [
       "((2771L,), (2771L,))"
      ]
     },
     "execution_count": 113,
     "metadata": {},
     "output_type": "execute_result"
    }
   ],
   "source": [
    "documents_top_restaurant.shape, target_top_restaurant.shape"
   ]
  },
  {
   "cell_type": "markdown",
   "metadata": {},
   "source": [
    "### Create training dataset and test dataset"
   ]
  },
  {
   "cell_type": "code",
   "execution_count": 114,
   "metadata": {
    "collapsed": true
   },
   "outputs": [],
   "source": [
    "from sklearn.cross_validation import train_test_split"
   ]
  },
  {
   "cell_type": "code",
   "execution_count": 115,
   "metadata": {},
   "outputs": [
    {
     "data": {
      "text/plain": [
       "((1939L,), (832L,), (1939L,), (832L,))"
      ]
     },
     "execution_count": 115,
     "metadata": {},
     "output_type": "execute_result"
    }
   ],
   "source": [
    "# documents_top_restaurant is your X, target_top_restaurant is your y\n",
    "# Now split the data to training set and test set\n",
    "# Now your data is smaller, you can use a typical \"test_size\", e.g. 0.3-0.7\n",
    "\n",
    "X_train, X_test, y_train, y_test= train_test_split(\n",
    "    documents_top_restaurant, \n",
    "    target_top_restaurant, \n",
    "    test_size = 0.3, \n",
    "    random_state=12)\n",
    "\n",
    "X_train.shape, X_test.shape, y_train.shape, y_test.shape"
   ]
  },
  {
   "cell_type": "markdown",
   "metadata": {},
   "source": [
    "### Get NLP representation of the documents"
   ]
  },
  {
   "cell_type": "code",
   "execution_count": 116,
   "metadata": {
    "collapsed": true
   },
   "outputs": [],
   "source": [
    "from sklearn.feature_extraction.text import TfidfVectorizer"
   ]
  },
  {
   "cell_type": "code",
   "execution_count": 117,
   "metadata": {
    "collapsed": true
   },
   "outputs": [],
   "source": [
    "# Create TfidfVectorizer, and name it vectorizer\n",
    "vectorizer= TfidfVectorizer(stop_words='english',\n",
    "                          max_features = 1000)"
   ]
  },
  {
   "cell_type": "code",
   "execution_count": 118,
   "metadata": {
    "collapsed": true
   },
   "outputs": [],
   "source": [
    "# Train the model with your training data\n",
    "vectors_train = vectorizer.fit_transform(X_train).toarray()"
   ]
  },
  {
   "cell_type": "code",
   "execution_count": 119,
   "metadata": {
    "collapsed": true
   },
   "outputs": [],
   "source": [
    "# Get the vocab of your tfidf\n",
    "words = vectorizer.get_feature_names()"
   ]
  },
  {
   "cell_type": "code",
   "execution_count": 120,
   "metadata": {},
   "outputs": [
    {
     "data": {
      "text/plain": [
       "(1939L, 1000L)"
      ]
     },
     "execution_count": 120,
     "metadata": {},
     "output_type": "execute_result"
    }
   ],
   "source": [
    "# Use the trained model to transform the test data\n",
    "vectors_train.shape"
   ]
  },
  {
   "cell_type": "code",
   "execution_count": 121,
   "metadata": {
    "collapsed": true
   },
   "outputs": [],
   "source": [
    "# Use the trained model to transform all the data\n",
    "vectors_test = vectorizer.transform(X_test).toarray()\n",
    "vectors_documents_top_restaurant = vectorizer.transform(documents_top_restaurant).toarray()"
   ]
  },
  {
   "cell_type": "markdown",
   "metadata": {},
   "source": [
    "### Cluster reviews with KMeans"
   ]
  },
  {
   "cell_type": "markdown",
   "metadata": {},
   "source": [
    "#### Fit k-means clustering on the training vectors and make predictions on all data"
   ]
  },
  {
   "cell_type": "code",
   "execution_count": 122,
   "metadata": {},
   "outputs": [
    {
     "data": {
      "text/plain": [
       "KMeans(algorithm='auto', copy_x=True, init='k-means++', max_iter=300,\n",
       "    n_clusters=5, n_init=10, n_jobs=1, precompute_distances='auto',\n",
       "    random_state=None, tol=0.0001, verbose=0)"
      ]
     },
     "execution_count": 122,
     "metadata": {},
     "output_type": "execute_result"
    }
   ],
   "source": [
    "from sklearn.cluster import KMeans\n",
    "\n",
    "kmeans=KMeans(n_clusters=5)\n",
    "kmeans.fit(vectors_train)"
   ]
  },
  {
   "cell_type": "markdown",
   "metadata": {},
   "source": [
    "#### Make predictions on all your data"
   ]
  },
  {
   "cell_type": "code",
   "execution_count": 123,
   "metadata": {
    "collapsed": true
   },
   "outputs": [],
   "source": [
    "assigned_cluster = kmeans.predict(vectors_documents_top_restaurant)"
   ]
  },
  {
   "cell_type": "markdown",
   "metadata": {},
   "source": [
    "#### Inspect the centroids"
   ]
  },
  {
   "cell_type": "code",
   "execution_count": 124,
   "metadata": {},
   "outputs": [
    {
     "name": "stdout",
     "output_type": "stream",
     "text": [
      "cluster centers:\n",
      "(5L, 1000L)\n"
     ]
    }
   ],
   "source": [
    "print \"cluster centers:\"\n",
    "print kmeans.cluster_centers_.shape"
   ]
  },
  {
   "cell_type": "markdown",
   "metadata": {},
   "source": [
    "#### Find the top 10 features for each cluster."
   ]
  },
  {
   "cell_type": "code",
   "execution_count": 125,
   "metadata": {},
   "outputs": [
    {
     "name": "stdout",
     "output_type": "stream",
     "text": [
      "top features for each cluster:\n",
      "0: food, meat, time, delicious, place, ordered, service, came, got, definitely\n",
      "1: good, really, food, meat, service, place, nice, quality, come, recommend\n",
      "2: great, food, service, place, amazing, recommend, definitely, atmosphere, come, delicious\n",
      "3: happy, hour, great, food, good, place, definitely, service, awesome, pork\n",
      "4: korean, bbq, best, vegas, place, las, food, ve, great, good\n"
     ]
    }
   ],
   "source": [
    "n_feat = 10\n",
    "top_centroids = kmeans.cluster_centers_.argsort()[:,-1:-n_feat-1:-1]\n",
    "\n",
    "print \"top features for each cluster:\"\n",
    "for num, centroid in enumerate(top_centroids):\n",
    "    print \"%d: %s\" % (num, \", \".join(words[i] for i in centroid))"
   ]
  },
  {
   "cell_type": "markdown",
   "metadata": {},
   "source": [
    "#### Print out the rating and review of a random sample of the reviews assigned to each cluster to get a sense of the cluster."
   ]
  },
  {
   "cell_type": "code",
   "execution_count": 126,
   "metadata": {},
   "outputs": [
    {
     "data": {
      "text/plain": [
       "array([0, 1, 2, 3, 4])"
      ]
     },
     "execution_count": 126,
     "metadata": {},
     "output_type": "execute_result"
    }
   ],
   "source": [
    "np.unique(assigned_cluster)"
   ]
  },
  {
   "cell_type": "code",
   "execution_count": 127,
   "metadata": {},
   "outputs": [
    {
     "name": "stdout",
     "output_type": "stream",
     "text": [
      "==========\n",
      "Cluster 0:\n",
      "    1 -  As soon as I found this restaurant I wanted to try it but don't be fooled by all these reviews and stars on Yelp. The restaurant was freezing cold, the service was awful, the food wasn't very good, and to top it off the server gave us some other person's credit card and ran away before we could tell her it wasn't ours! In no way is that ok. I will never go back to this restaurant again. \r\n",
      "\r\n",
      "When we got there we were greeted with the most unfriendliest server I have ever seen. She made us feel very unwelcome and as if we did something wrong by coming into the restaurant. \r\n",
      "\r\n",
      "After we were seated we were ignored for a bit. She never asked us if we had been there before or explained anything to us. After we ordered she gave us some kind of sauce and some side dishes. There was no explanation as to what any of it was. We tried 5 of the 7 side dishes and only one of them tasted like anything and that was cucumber. They were not good and the 2 we didn't try looked really unappetizing. \r\n",
      "\r\n",
      "When the meat came out again no explanation about how to handle and cook the raw meat so that there is no cross contamination or cooking times to make sure the meat is cooked properly so that we don get food poisoning. Ever other restaurant that has you cook your own meat that I have been to tells you these things. The meat was alright. It was nothing special. For the amount of stars and reviews this restaurant has I expected something better than mediocre.  \r\n",
      "\r\n",
      "When we were finished we had to wait at least 15 minutes to get the check. We noticed that the server kept looking at us but was trying to ignore us. The table next to us who sat down while we were eating got their check before we did. We finally got the check and gave them our card. The sever then brought back the card and basically threw it on the corner of the table and ran away. She had actually  given us the wrong credit card. She ran away so fast we couldn't give it back. Luckily a tall skinny male server came an took it and brought our card.\n",
      "    5 -  Really enjoyed the experience here. This was my first time at an establishment like this and it was a blast! We got to choose our meats to cook on the grill. Everything has its own flavor and tasted good! We also had garlic edamame and fried rice which were both outstanding. The service was on point! Everyone was very helpful and checked on us often.\n",
      "\n",
      "==========\n",
      "Cluster 1:\n",
      "    5 -  Simply impressive!  Korean tapas. Our family really enjoyed the food. Good Korean food away from CA. I strongly recommend my friends to try this place when you're in LV. :-)\n",
      "    5 -  very yummy！so close to our hotel！I will recommend the gangnam bbq set！I feel i really like the asian food～and here can satisfy me\n",
      "\n",
      "==========\n",
      "Cluster 2:\n",
      "    5 -  awesome and friendly servers. great food and inexpensive. everything I had was good, the skirt steak, bulgogi bibimbap, filet mignon, spicy tuna kimbap and a large pitcher of Sapporo. I'd recommend this place to anyone and everyone.\n",
      "    5 -  Very clean atmosphere and clean food. Very pleased with the service and the food. My fiancée and I will definitely will be back.\n",
      "\n",
      "==========\n",
      "Cluster 3:\n",
      "    4 -  Pretty standard Korean bbq with Japanese influences... The wait staff is pretty nice. The liquor is cheap and so is happy hour.... Compared to LA OR NYC KBBQ... It's on the pricier side but the atmosphere and decor is ok.\n",
      "    5 -  The food was soooo good. Defintiely worth the stop. Happy hour prices are unbeatable. Overall, great experience.\n",
      "\n",
      "==========\n",
      "Cluster 4:\n",
      "    5 -  Best korean bbq in Vegas! There's a reason this restaurant is highly rated. The price is decent. The food is perfectly seasoned! Great side dishes and menu selection. You can't go wrong with anything on the menu! It was a 30min walk from our hotel and it's off the strip but it's TOTALLY worth it!! I will definitely come here again when I visit Vegas again.\n",
      "    5 -  The atmosphere of the restaurant is pleasant with modern decor.  The Korean side dishes were yummy!   Nice mix of vegetables.  The prime Kobi is one of the best meat I have ever tasted!!  The bolgogi is excellent! Would definitely come back again.\n",
      "\n"
     ]
    }
   ],
   "source": [
    "for i in range(kmeans.n_clusters):\n",
    "    cluster = np.arange(0, vectors_documents_top_restaurant.shape[0])[assigned_cluster==i]\n",
    "    sample_reviews = np.random.choice(cluster, 2, replace=False)\n",
    "    print \"=\" * 10\n",
    "    print \"Cluster %d:\" % i\n",
    "    for review_index in sample_reviews:\n",
    "        print \"    %s - \" % df_top_restaurant.loc[review_index]['stars'],\n",
    "        print \"%s\" % df_top_restaurant.loc[review_index]['text']\n",
    "    print"
   ]
  },
  {
   "cell_type": "markdown",
   "metadata": {},
   "source": [
    "## 3. Use PCA to reduce dimensionality"
   ]
  },
  {
   "cell_type": "markdown",
   "metadata": {},
   "source": [
    "### Stardardize features\n",
    "Your X_train and X_test"
   ]
  },
  {
   "cell_type": "code",
   "execution_count": 128,
   "metadata": {
    "collapsed": true
   },
   "outputs": [],
   "source": [
    "from sklearn.preprocessing import StandardScaler\n",
    "\n",
    "scaler = StandardScaler()\n",
    "X_train_scaled = scaler.fit_transform(vectors_train)\n",
    "X_test_scaled = scaler.transform(vectors_test)"
   ]
  },
  {
   "cell_type": "markdown",
   "metadata": {},
   "source": [
    "### Use PCA to transform data (train and test) and get princial components"
   ]
  },
  {
   "cell_type": "code",
   "execution_count": 129,
   "metadata": {
    "collapsed": true
   },
   "outputs": [],
   "source": [
    "from sklearn.decomposition import PCA\n",
    "\n",
    "# Let's pick a n_components\n",
    "n_components = 50\n",
    "\n",
    "\n",
    "pca = PCA(n_components=50)\n",
    "X_train_pca = pca.fit_transform(X_train_scaled)\n",
    "X_test_pca = pca.transform(X_test_scaled)\n"
   ]
  },
  {
   "cell_type": "code",
   "execution_count": 130,
   "metadata": {},
   "outputs": [
    {
     "data": {
      "text/plain": [
       "((1939L, 50L), (832L, 50L))"
      ]
     },
     "execution_count": 130,
     "metadata": {},
     "output_type": "execute_result"
    }
   ],
   "source": [
    "X_train_pca.shape, X_test_pca.shape"
   ]
  },
  {
   "cell_type": "markdown",
   "metadata": {},
   "source": [
    "We can see that we reduce the column dimension to 50 now."
   ]
  },
  {
   "cell_type": "markdown",
   "metadata": {},
   "source": [
    "### See how much (and how much percentage of) variance the principal components explain"
   ]
  },
  {
   "cell_type": "code",
   "execution_count": 131,
   "metadata": {},
   "outputs": [
    {
     "name": "stdout",
     "output_type": "stream",
     "text": [
      "[ 6.2217273   5.02831297  4.10997743  3.86529757  3.72750826  3.52422511\n",
      "  3.4728353   3.33951928  3.32194802  3.28734598]\n"
     ]
    }
   ],
   "source": [
    "# How much variance each principal component explains\n",
    "print pca.explained_variance_[:10]"
   ]
  },
  {
   "cell_type": "code",
   "execution_count": 132,
   "metadata": {},
   "outputs": [
    {
     "name": "stdout",
     "output_type": "stream",
     "text": [
      "[ 0.00621852  0.00502572  0.00410786  0.0038633   0.00372559  0.00352241\n",
      "  0.00347104  0.0033378   0.00332023  0.00328565]\n"
     ]
    }
   ],
   "source": [
    "print pca.explained_variance_ratio_[:10]"
   ]
  },
  {
   "cell_type": "markdown",
   "metadata": {},
   "source": [
    "### Viz: plot proportion of variance explained with top principal components\n",
    "\n",
    "For clear display, you may start with plotting <=20 principal components"
   ]
  },
  {
   "cell_type": "code",
   "execution_count": 133,
   "metadata": {},
   "outputs": [
    {
     "data": {
      "image/png": "[encoded data removed]",
      "text/plain": [
       "<matplotlib.figure.Figure at 0x1c6b3518>"
      ]
     },
     "metadata": {},
     "output_type": "display_data"
    }
   ],
   "source": [
    "n_col_to_display = 20\n",
    "\n",
    "pca_range = np.arange(n_col_to_display) + 1\n",
    "pca_names = ['PCA_%s' % i for i in pca_range]\n",
    "\n",
    "plt.figure(figsize=(10, 10))\n",
    "plt.bar(pca_range,\n",
    "        pca.explained_variance_[:n_col_to_display],\n",
    "        align='center')\n",
    "xticks = plt.xticks(pca_range,\n",
    "                    pca_names,\n",
    "                    rotation=90)\n",
    "plt.ylabel('Variance Explained')\n",
    "plt.show()\n"
   ]
  },
  {
   "cell_type": "code",
   "execution_count": 134,
   "metadata": {},
   "outputs": [
    {
     "data": {
      "image/png": "[encoded data removed]",
      "text/plain": [
       "<matplotlib.figure.Figure at 0x37a11198>"
      ]
     },
     "metadata": {},
     "output_type": "display_data"
    }
   ],
   "source": [
    "n_col_to_display = 20\n",
    "\n",
    "pca_range = np.arange(n_col_to_display) + 1\n",
    "pca_names = ['PCA_%s' % i for i in pca_range]\n",
    "\n",
    "plt.figure(figsize=(10, 10))\n",
    "plt.barh(pca_range, pca.explained_variance_ratio_[:n_col_to_display], align='center')\n",
    "xticks = plt.yticks(pca_range, pca_names)\n",
    "plt.xlabel('Proportion of Variance Explained')\n",
    "\n",
    "plt.show()"
   ]
  },
  {
   "cell_type": "markdown",
   "metadata": {},
   "source": [
    "## Classifying positive/negative review with PCA preprocessing"
   ]
  },
  {
   "cell_type": "code",
   "execution_count": 135,
   "metadata": {},
   "outputs": [
    {
     "data": {
      "text/plain": [
       "((1939L, 1000L), (1939L,))"
      ]
     },
     "execution_count": 135,
     "metadata": {},
     "output_type": "execute_result"
    }
   ],
   "source": [
    "X_train_scaled.shape, y_train.shape"
   ]
  },
  {
   "cell_type": "code",
   "execution_count": 136,
   "metadata": {},
   "outputs": [
    {
     "data": {
      "text/plain": [
       "((1939L, 50L), (1939L,))"
      ]
     },
     "execution_count": 136,
     "metadata": {},
     "output_type": "execute_result"
    }
   ],
   "source": [
    "X_train_pca.shape, y_train.shape"
   ]
  },
  {
   "cell_type": "markdown",
   "metadata": {},
   "source": [
    "### Logistic Regression Classifier\n",
    "#### Use standardized tf-idf vectors as features"
   ]
  },
  {
   "cell_type": "code",
   "execution_count": 137,
   "metadata": {},
   "outputs": [
    {
     "data": {
      "text/plain": [
       "LogisticRegression(C=1.0, class_weight=None, dual=False, fit_intercept=True,\n",
       "          intercept_scaling=1, max_iter=100, multi_class='ovr', n_jobs=1,\n",
       "          penalty='l2', random_state=None, solver='liblinear', tol=0.0001,\n",
       "          verbose=0, warm_start=False)"
      ]
     },
     "execution_count": 137,
     "metadata": {},
     "output_type": "execute_result"
    }
   ],
   "source": [
    "# Build a Logistic Regression Classifier, train with standardized tf-idf vectors\n",
    "\n",
    "from sklearn.linear_model import LogisticRegression\n",
    "\n",
    "model_lrc = LogisticRegression()\n",
    "\n",
    "model_lrc.fit(X_train_scaled, y_train)\n"
   ]
  },
  {
   "cell_type": "code",
   "execution_count": 138,
   "metadata": {},
   "outputs": [
    {
     "data": {
      "text/plain": [
       "0.99638989169675085"
      ]
     },
     "execution_count": 138,
     "metadata": {},
     "output_type": "execute_result"
    }
   ],
   "source": [
    "# Get score for training set\n",
    "model_lrc.score(X_train_scaled, y_train)"
   ]
  },
  {
   "cell_type": "code",
   "execution_count": 139,
   "metadata": {
    "scrolled": true
   },
   "outputs": [
    {
     "data": {
      "text/plain": [
       "0.68509615384615385"
      ]
     },
     "execution_count": 139,
     "metadata": {},
     "output_type": "execute_result"
    }
   ],
   "source": [
    "# Get score for test set\n",
    "model_lrc.score(X_test_scaled, y_test)"
   ]
  },
  {
   "cell_type": "markdown",
   "metadata": {},
   "source": [
    "We can see that the logistic regression model is very overfitting."
   ]
  },
  {
   "cell_type": "markdown",
   "metadata": {},
   "source": [
    "#### Use (Stardardized + PCA) tf-idf vectors as features"
   ]
  },
  {
   "cell_type": "code",
   "execution_count": 140,
   "metadata": {},
   "outputs": [
    {
     "data": {
      "text/plain": [
       "LogisticRegression(C=1.0, class_weight=None, dual=False, fit_intercept=True,\n",
       "          intercept_scaling=1, max_iter=100, multi_class='ovr', n_jobs=1,\n",
       "          penalty='l2', random_state=None, solver='liblinear', tol=0.0001,\n",
       "          verbose=0, warm_start=False)"
      ]
     },
     "execution_count": 140,
     "metadata": {},
     "output_type": "execute_result"
    }
   ],
   "source": [
    "# Build a Logistic Regression Classifier, train with PCA tranformed X\n",
    "\n",
    "from sklearn.linear_model import LogisticRegression\n",
    "\n",
    "model_lrc_pca = LogisticRegression()\n",
    "\n",
    "model_lrc_pca.fit(X_train_pca, y_train)\n"
   ]
  },
  {
   "cell_type": "code",
   "execution_count": 141,
   "metadata": {},
   "outputs": [
    {
     "data": {
      "text/plain": [
       "0.78597215059308922"
      ]
     },
     "execution_count": 141,
     "metadata": {},
     "output_type": "execute_result"
    }
   ],
   "source": [
    "# Get score for training set\n",
    "model_lrc_pca.score(X_train_pca, y_train)"
   ]
  },
  {
   "cell_type": "code",
   "execution_count": 142,
   "metadata": {},
   "outputs": [
    {
     "data": {
      "text/plain": [
       "0.79927884615384615"
      ]
     },
     "execution_count": 142,
     "metadata": {},
     "output_type": "execute_result"
    }
   ],
   "source": [
    "# Get score for test set, REMEMBER to use PCA-transformed X!\n",
    "model_lrc_pca.score(X_test_pca, y_test)"
   ]
  },
  {
   "cell_type": "markdown",
   "metadata": {},
   "source": [
    "We can see that using standardized PCA features, the model doesn't have the overfitting problem now."
   ]
  },
  {
   "cell_type": "markdown",
   "metadata": {},
   "source": [
    "#### Q: What do you see from the training score and the test score? How do you compare the results from PCA and non-PCA preprocessing?"
   ]
  },
  {
   "cell_type": "markdown",
   "metadata": {},
   "source": [
    "A: PCA preprocessing helps to solve the overfitting problem compared with non-PCA preprocessing."
   ]
  },
  {
   "cell_type": "markdown",
   "metadata": {},
   "source": [
    "#### You can plot the coefficients against principal components\n"
   ]
  },
  {
   "cell_type": "code",
   "execution_count": 143,
   "metadata": {},
   "outputs": [
    {
     "data": {
      "image/png": "[encoded data removed]",
      "text/plain": [
       "<matplotlib.figure.Figure at 0x36122dd8>"
      ]
     },
     "metadata": {},
     "output_type": "display_data"
    }
   ],
   "source": [
    "pca_range = np.arange(pca.n_components_) + 1\n",
    "pca_names = ['PC_%s' % i for i in pca_range]\n",
    "\n",
    "df_coeffs = pd.DataFrame(list(zip(pca_names, abs(model_lrc_pca.coef_.flatten())))).sort_values(by=[1], ascending=False)\n",
    "df_coeffs.columns = ['PCs', 'coeff']\n",
    "\n",
    "ax = df_coeffs.plot.barh(figsize=(10, 10))\n",
    "t = np.arange(pca.n_components_)\n",
    "ax.set_yticks(t)\n",
    "ax.set_yticklabels(df_coeffs['PCs'])\n",
    "plt.show()"
   ]
  },
  {
   "cell_type": "markdown",
   "metadata": {},
   "source": [
    "### Random Forest Classifier\n",
    "#### Use standardized tf-idf vectors as features"
   ]
  },
  {
   "cell_type": "code",
   "execution_count": 144,
   "metadata": {},
   "outputs": [
    {
     "data": {
      "text/plain": [
       "RandomForestClassifier(bootstrap=True, class_weight=None, criterion='gini',\n",
       "            max_depth=None, max_features='auto', max_leaf_nodes=None,\n",
       "            min_impurity_decrease=0.0, min_impurity_split=None,\n",
       "            min_samples_leaf=1, min_samples_split=2,\n",
       "            min_weight_fraction_leaf=0.0, n_estimators=10, n_jobs=1,\n",
       "            oob_score=False, random_state=None, verbose=0,\n",
       "            warm_start=False)"
      ]
     },
     "execution_count": 144,
     "metadata": {},
     "output_type": "execute_result"
    }
   ],
   "source": [
    "# Build a Random Forest Classifier\n",
    "\n",
    "from sklearn.ensemble import RandomForestClassifier\n",
    "\n",
    "model_rf = RandomForestClassifier()\n",
    "\n",
    "model_rf.fit(X_train_scaled, y_train)"
   ]
  },
  {
   "cell_type": "code",
   "execution_count": 145,
   "metadata": {},
   "outputs": [
    {
     "data": {
      "text/plain": [
       "0.98762248581743162"
      ]
     },
     "execution_count": 145,
     "metadata": {},
     "output_type": "execute_result"
    }
   ],
   "source": [
    "# Get score for training set\n",
    "model_rf.score(X_train_scaled, y_train)"
   ]
  },
  {
   "cell_type": "code",
   "execution_count": 146,
   "metadata": {
    "scrolled": true
   },
   "outputs": [
    {
     "data": {
      "text/plain": [
       "0.75480769230769229"
      ]
     },
     "execution_count": 146,
     "metadata": {},
     "output_type": "execute_result"
    }
   ],
   "source": [
    "# Get score for test set\n",
    "model_rf.score(X_test_scaled, y_test)"
   ]
  },
  {
   "cell_type": "markdown",
   "metadata": {},
   "source": [
    "#### Use (Stardardized + PCA) tf-idf vectors as features"
   ]
  },
  {
   "cell_type": "code",
   "execution_count": 147,
   "metadata": {},
   "outputs": [
    {
     "data": {
      "text/plain": [
       "RandomForestClassifier(bootstrap=True, class_weight=None, criterion='gini',\n",
       "            max_depth=None, max_features='auto', max_leaf_nodes=None,\n",
       "            min_impurity_decrease=0.0, min_impurity_split=None,\n",
       "            min_samples_leaf=1, min_samples_split=2,\n",
       "            min_weight_fraction_leaf=0.0, n_estimators=10, n_jobs=1,\n",
       "            oob_score=False, random_state=None, verbose=0,\n",
       "            warm_start=False)"
      ]
     },
     "execution_count": 147,
     "metadata": {},
     "output_type": "execute_result"
    }
   ],
   "source": [
    "# Build a Random Forest Classifier\n",
    "\n",
    "from sklearn.ensemble import RandomForestClassifier\n",
    "\n",
    "model_rf_pca = RandomForestClassifier()\n",
    "\n",
    "model_rf_pca.fit(X_train_pca, y_train)"
   ]
  },
  {
   "cell_type": "code",
   "execution_count": 148,
   "metadata": {},
   "outputs": [
    {
     "data": {
      "text/plain": [
       "0.98916967509025266"
      ]
     },
     "execution_count": 148,
     "metadata": {},
     "output_type": "execute_result"
    }
   ],
   "source": [
    "# Get score for training set\n",
    "model_rf_pca.score(X_train_pca, y_train)"
   ]
  },
  {
   "cell_type": "code",
   "execution_count": 149,
   "metadata": {},
   "outputs": [
    {
     "data": {
      "text/plain": [
       "0.75"
      ]
     },
     "execution_count": 149,
     "metadata": {},
     "output_type": "execute_result"
    }
   ],
   "source": [
    "# Get score for test set, REMEMBER to use PCA-transformed X!\n",
    "model_rf_pca.score(X_test_pca, y_test)"
   ]
  },
  {
   "cell_type": "markdown",
   "metadata": {},
   "source": [
    "#### Q: What do you see from the training result and the test result?"
   ]
  },
  {
   "cell_type": "markdown",
   "metadata": {},
   "source": [
    "A: For the random forest model, the PCA preprocessing doesn't help with the overfitting problem."
   ]
  },
  {
   "cell_type": "markdown",
   "metadata": {},
   "source": [
    "#### You can plot the feature importances against principal components\n"
   ]
  },
  {
   "cell_type": "code",
   "execution_count": 150,
   "metadata": {},
   "outputs": [
    {
     "data": {
      "image/png": "[encoded data removed]",
      "text/plain": [
       "<matplotlib.figure.Figure at 0x64e812b0>"
      ]
     },
     "metadata": {},
     "output_type": "display_data"
    }
   ],
   "source": [
    "pca_range = np.arange(pca.n_components_) + 1\n",
    "pca_names = ['PC_%s' % i for i in pca_range]\n",
    "\n",
    "df_coeffs = pd.DataFrame(list(zip(pca_names, model_rf_pca.feature_importances_))).sort_values(by=[1], ascending=False)\n",
    "df_coeffs.columns = ['PCs', 'feature importance']\n",
    "\n",
    "ax = df_coeffs.plot.barh(figsize=(10, 10))\n",
    "t = np.arange(pca.n_components_)\n",
    "ax.set_yticks(t)\n",
    "ax.set_yticklabels(df_coeffs['PCs'])\n",
    "plt.show()"
   ]
  },
  {
   "cell_type": "markdown",
   "metadata": {},
   "source": [
    "## Extra Credit #1: Can you cluster restaurants from their category information?\n",
    "Hint: a business may have mutiple categories, e.g. a restaurant can have both \"Restaurants\" and \"Korean\""
   ]
  },
  {
   "cell_type": "code",
   "execution_count": 151,
   "metadata": {},
   "outputs": [
    {
     "data": {
      "text/html": [
       "<div>\n",
       "<style>\n",
       "    .dataframe thead tr:only-child th {\n",
       "        text-align: right;\n",
       "    }\n",
       "\n",
       "    .dataframe thead th {\n",
       "        text-align: left;\n",
       "    }\n",
       "\n",
       "    .dataframe tbody tr th {\n",
       "        vertical-align: top;\n",
       "    }\n",
       "</style>\n",
       "<table border=\"1\" class=\"dataframe\">\n",
       "  <thead>\n",
       "    <tr style=\"text-align: right;\">\n",
       "      <th></th>\n",
       "      <th>business_id</th>\n",
       "      <th>name</th>\n",
       "      <th>categories</th>\n",
       "      <th>avg_stars</th>\n",
       "      <th>cool</th>\n",
       "      <th>date</th>\n",
       "      <th>funny</th>\n",
       "      <th>review_id</th>\n",
       "      <th>stars</th>\n",
       "      <th>text</th>\n",
       "      <th>useful</th>\n",
       "      <th>user_id</th>\n",
       "    </tr>\n",
       "  </thead>\n",
       "  <tbody>\n",
       "    <tr>\n",
       "      <th>0</th>\n",
       "      <td>--9e1ONYQuAa-CB_Rrw7Tw</td>\n",
       "      <td>Delmonico Steakhouse</td>\n",
       "      <td>[Steakhouses, Cajun/Creole, Restaurants]</td>\n",
       "      <td>4.0</td>\n",
       "      <td>1</td>\n",
       "      <td>2016-05-17</td>\n",
       "      <td>0</td>\n",
       "      <td>0Qc1THNHSapDL7cv-ZzW5g</td>\n",
       "      <td>5</td>\n",
       "      <td>What can I say.. Wowzers! Probably one of the ...</td>\n",
       "      <td>0</td>\n",
       "      <td>4LxKRRIikhr65GfPDW626w</td>\n",
       "    </tr>\n",
       "    <tr>\n",
       "      <th>1</th>\n",
       "      <td>--9e1ONYQuAa-CB_Rrw7Tw</td>\n",
       "      <td>Delmonico Steakhouse</td>\n",
       "      <td>[Steakhouses, Cajun/Creole, Restaurants]</td>\n",
       "      <td>4.0</td>\n",
       "      <td>0</td>\n",
       "      <td>2017-01-20</td>\n",
       "      <td>0</td>\n",
       "      <td>L8lo5SKXfZRlbn1bpPiC9w</td>\n",
       "      <td>5</td>\n",
       "      <td>Went here for guys weekend. Unbelievable. Ravi...</td>\n",
       "      <td>0</td>\n",
       "      <td>nT8zgjoc-PbdBoQsFEXFLw</td>\n",
       "    </tr>\n",
       "    <tr>\n",
       "      <th>2</th>\n",
       "      <td>--9e1ONYQuAa-CB_Rrw7Tw</td>\n",
       "      <td>Delmonico Steakhouse</td>\n",
       "      <td>[Steakhouses, Cajun/Creole, Restaurants]</td>\n",
       "      <td>4.0</td>\n",
       "      <td>52</td>\n",
       "      <td>2016-09-25</td>\n",
       "      <td>30</td>\n",
       "      <td>6eUT3IwwWPP3CZkAhxqOIw</td>\n",
       "      <td>5</td>\n",
       "      <td>One word my friends: tableside!!! Yes, tablesi...</td>\n",
       "      <td>56</td>\n",
       "      <td>7RlyCglsIzhBn081inwvcg</td>\n",
       "    </tr>\n",
       "    <tr>\n",
       "      <th>3</th>\n",
       "      <td>--9e1ONYQuAa-CB_Rrw7Tw</td>\n",
       "      <td>Delmonico Steakhouse</td>\n",
       "      <td>[Steakhouses, Cajun/Creole, Restaurants]</td>\n",
       "      <td>4.0</td>\n",
       "      <td>1</td>\n",
       "      <td>2017-02-12</td>\n",
       "      <td>0</td>\n",
       "      <td>3cnTdE45VrsS0o4cVhfGog</td>\n",
       "      <td>3</td>\n",
       "      <td>Located inside my favorite hotel Venetian, Del...</td>\n",
       "      <td>1</td>\n",
       "      <td>rOIrilMC7VFwFVBeQNiKMw</td>\n",
       "    </tr>\n",
       "    <tr>\n",
       "      <th>4</th>\n",
       "      <td>--9e1ONYQuAa-CB_Rrw7Tw</td>\n",
       "      <td>Delmonico Steakhouse</td>\n",
       "      <td>[Steakhouses, Cajun/Creole, Restaurants]</td>\n",
       "      <td>4.0</td>\n",
       "      <td>0</td>\n",
       "      <td>2016-10-30</td>\n",
       "      <td>0</td>\n",
       "      <td>tYrSbjX3QgZGBZuQ3n8g6w</td>\n",
       "      <td>5</td>\n",
       "      <td>After the most incredible service, delicious m...</td>\n",
       "      <td>2</td>\n",
       "      <td>PiWlV_UC_-SXqyxQM9fAtw</td>\n",
       "    </tr>\n",
       "  </tbody>\n",
       "</table>\n",
       "</div>"
      ],
      "text/plain": [
       "              business_id                  name  \\\n",
       "0  --9e1ONYQuAa-CB_Rrw7Tw  Delmonico Steakhouse   \n",
       "1  --9e1ONYQuAa-CB_Rrw7Tw  Delmonico Steakhouse   \n",
       "2  --9e1ONYQuAa-CB_Rrw7Tw  Delmonico Steakhouse   \n",
       "3  --9e1ONYQuAa-CB_Rrw7Tw  Delmonico Steakhouse   \n",
       "4  --9e1ONYQuAa-CB_Rrw7Tw  Delmonico Steakhouse   \n",
       "\n",
       "                                 categories  avg_stars  cool        date  \\\n",
       "0  [Steakhouses, Cajun/Creole, Restaurants]        4.0     1  2016-05-17   \n",
       "1  [Steakhouses, Cajun/Creole, Restaurants]        4.0     0  2017-01-20   \n",
       "2  [Steakhouses, Cajun/Creole, Restaurants]        4.0    52  2016-09-25   \n",
       "3  [Steakhouses, Cajun/Creole, Restaurants]        4.0     1  2017-02-12   \n",
       "4  [Steakhouses, Cajun/Creole, Restaurants]        4.0     0  2016-10-30   \n",
       "\n",
       "   funny               review_id  stars  \\\n",
       "0      0  0Qc1THNHSapDL7cv-ZzW5g      5   \n",
       "1      0  L8lo5SKXfZRlbn1bpPiC9w      5   \n",
       "2     30  6eUT3IwwWPP3CZkAhxqOIw      5   \n",
       "3      0  3cnTdE45VrsS0o4cVhfGog      3   \n",
       "4      0  tYrSbjX3QgZGBZuQ3n8g6w      5   \n",
       "\n",
       "                                                text  useful  \\\n",
       "0  What can I say.. Wowzers! Probably one of the ...       0   \n",
       "1  Went here for guys weekend. Unbelievable. Ravi...       0   \n",
       "2  One word my friends: tableside!!! Yes, tablesi...      56   \n",
       "3  Located inside my favorite hotel Venetian, Del...       1   \n",
       "4  After the most incredible service, delicious m...       2   \n",
       "\n",
       "                  user_id  \n",
       "0  4LxKRRIikhr65GfPDW626w  \n",
       "1  nT8zgjoc-PbdBoQsFEXFLw  \n",
       "2  7RlyCglsIzhBn081inwvcg  \n",
       "3  rOIrilMC7VFwFVBeQNiKMw  \n",
       "4  PiWlV_UC_-SXqyxQM9fAtw  "
      ]
     },
     "execution_count": 151,
     "metadata": {},
     "output_type": "execute_result"
    }
   ],
   "source": [
    "df.head()"
   ]
  },
  {
   "cell_type": "code",
   "execution_count": 152,
   "metadata": {
    "collapsed": true
   },
   "outputs": [],
   "source": [
    "# get categories\n",
    "categories = df['categories'].values"
   ]
  },
  {
   "cell_type": "code",
   "execution_count": 153,
   "metadata": {},
   "outputs": [
    {
     "data": {
      "text/plain": [
       "array(['[Steakhouses, Cajun/Creole, Restaurants]',\n",
       "       '[Steakhouses, Cajun/Creole, Restaurants]',\n",
       "       '[Steakhouses, Cajun/Creole, Restaurants]', ...,\n",
       "       '[Vegetarian, Mexican, Restaurants]',\n",
       "       '[Vegetarian, Mexican, Restaurants]',\n",
       "       '[Vegetarian, Mexican, Restaurants]'], dtype=object)"
      ]
     },
     "execution_count": 153,
     "metadata": {},
     "output_type": "execute_result"
    }
   ],
   "source": [
    "categories"
   ]
  },
  {
   "cell_type": "code",
   "execution_count": 154,
   "metadata": {
    "collapsed": true
   },
   "outputs": [],
   "source": [
    "# generate target variable\n",
    "\n",
    "df['favorable'] = df['stars']>4\n",
    "\n",
    "target = df['favorable'].values"
   ]
  },
  {
   "cell_type": "code",
   "execution_count": 155,
   "metadata": {
    "collapsed": true
   },
   "outputs": [],
   "source": [
    "# Create training dataset and test dataset\n",
    "\n",
    "from sklearn.cross_validation import train_test_split\n",
    "\n",
    "categories_train, categories_test, target_train, target_test = train_test_split(categories, target, test_size = 0.3, random_state = 12)"
   ]
  },
  {
   "cell_type": "code",
   "execution_count": 156,
   "metadata": {
    "collapsed": true
   },
   "outputs": [],
   "source": [
    "# Get NLP representation of the documents\n",
    "\n",
    "from sklearn.feature_extraction.text import TfidfVectorizer\n",
    "\n",
    "vectorizer = TfidfVectorizer(stop_words = 'english', max_features = 1000)\n",
    "vectors_train_categories = vectorizer.fit_transform(categories_train).toarray()\n",
    "words_categories = vectorizer.get_feature_names()\n",
    "vectors_categories = vectorizer.transform(categories).toarray()"
   ]
  },
  {
   "cell_type": "code",
   "execution_count": 157,
   "metadata": {},
   "outputs": [
    {
     "data": {
      "text/plain": [
       "KMeans(algorithm='auto', copy_x=True, init='k-means++', max_iter=300,\n",
       "    n_clusters=8, n_init=10, n_jobs=1, precompute_distances='auto',\n",
       "    random_state=None, tol=0.0001, verbose=0)"
      ]
     },
     "execution_count": 157,
     "metadata": {},
     "output_type": "execute_result"
    }
   ],
   "source": [
    "# Cluster reviews with KMeans\n",
    "\n",
    "from sklearn.cluster import KMeans\n",
    "kmeans = KMeans()\n",
    "kmeans.fit(vectors_train_categories)"
   ]
  },
  {
   "cell_type": "code",
   "execution_count": 158,
   "metadata": {
    "collapsed": true
   },
   "outputs": [],
   "source": [
    "# Make predictions on all your data\n",
    "assigned_cluster_categories = kmeans.predict(vectors_categories)"
   ]
  },
  {
   "cell_type": "code",
   "execution_count": 159,
   "metadata": {},
   "outputs": [
    {
     "name": "stdout",
     "output_type": "stream",
     "text": [
      "cluster centers:\n",
      "(8L, 432L)\n"
     ]
    }
   ],
   "source": [
    "# Find the top 10 features for each cluster.\n",
    "# cluster centers shape\n",
    "print \"cluster centers:\"\n",
    "print kmeans.cluster_centers_.shape"
   ]
  },
  {
   "cell_type": "code",
   "execution_count": 160,
   "metadata": {},
   "outputs": [
    {
     "data": {
      "text/plain": [
       "array([[ -3.52040445e-16,   7.89900606e-03,  -2.69803711e-16, ...,\n",
       "         -6.39848688e-18,  -2.88939879e-16,  -8.02309608e-16],\n",
       "       [  2.56795459e-03,   2.93998211e-03,   1.07292801e-03, ...,\n",
       "          5.78083525e-05,   1.93869760e-03,   9.08358912e-03],\n",
       "       [ -3.89011739e-16,   9.62732475e-04,  -3.33934269e-16, ...,\n",
       "         -2.76132741e-19,  -3.22116465e-16,  -8.13585310e-16],\n",
       "       ..., \n",
       "       [  7.14489232e-17,   2.32257204e-03,   2.82895984e-03, ...,\n",
       "          1.11638942e-18,   2.05591548e-03,  -5.82433407e-16],\n",
       "       [ -1.54715650e-16,   5.34728511e-16,   5.38848480e-17, ...,\n",
       "         -2.23786105e-18,   1.31997211e-03,   3.84673785e-03],\n",
       "       [ -2.81458884e-16,   1.21560748e-15,  -1.47397285e-16, ...,\n",
       "         -8.81422485e-18,  -2.25514052e-16,  -7.80191883e-16]])"
      ]
     },
     "execution_count": 160,
     "metadata": {},
     "output_type": "execute_result"
    }
   ],
   "source": [
    "kmeans.cluster_centers_"
   ]
  },
  {
   "cell_type": "code",
   "execution_count": 161,
   "metadata": {},
   "outputs": [
    {
     "name": "stdout",
     "output_type": "stream",
     "text": [
      "top features for each cluster:\n",
      "0: anyways, expensive, 6pm, friends, kaku, expectations, hands, bit, hungry\n",
      "1: complain, friends, com, honey, background, gets, banchan, bite, girlfriend\n",
      "2: 6pm, authentic, awesome, hungry, expectations, friends, background, gets, ayce\n",
      "3: enoki, friends, com, expensive, complain, anyways, hit, girlfriend, enjoyed\n",
      "4: high, dipping, anyways, friends, food, constantly, ago, experience, girlfriend\n",
      "5: chunks, feeling, giving, beat, desert, guys, interesting, complain, friends\n",
      "6: feel, dining, friends, hard, karaage, better, gave, girlfriend, gets\n",
      "7: bf, ago, friends, constantly, host, dollars, angeles, isn, honestly\n"
     ]
    }
   ],
   "source": [
    "n_feat = 10\n",
    "top_centroids_categories = kmeans.cluster_centers_.argsort()[:, -1:-n_feat:-1]\n",
    "\n",
    "print \"top features for each cluster:\"\n",
    "for num, centroid in enumerate(top_centroids_categories):\n",
    "    print \"%d: %s\" % (num, \", \".join(words[i] for i in centroid))"
   ]
  },
  {
   "cell_type": "code",
   "execution_count": 162,
   "metadata": {},
   "outputs": [
    {
     "name": "stdout",
     "output_type": "stream",
     "text": [
      "==========\n",
      "Cluster 0:\n",
      "    5 -  [Nightlife, Bars, Restaurants, American (New), Cocktail Bars, Wine Bars]\n",
      "    5 -  [Restaurants, Nightlife, Seafood, Bars]\n",
      "\n",
      "==========\n",
      "Cluster 1:\n",
      "    4 -  [Coffee & Tea, Sandwiches, Restaurants, American (New), Music Venues, Bars, Food, Nightlife, Arts & Entertainment, Pubs]\n",
      "    5 -  [Filipino, Restaurants]\n",
      "\n",
      "==========\n",
      "Cluster 2:\n",
      "    2 -  [Buffets, Arts & Entertainment, Casinos, Restaurants, American (Traditional)]\n",
      "    3 -  [Pubs, Restaurants, Nightlife, American (Traditional), Burgers, African, Bars, Breakfast & Brunch, American (New)]\n",
      "\n",
      "==========\n",
      "Cluster 3:\n",
      "    2 -  [Nightlife, Restaurants, Mexican, Vegan, Bars]\n",
      "    2 -  [Seafood, Restaurants, Mexican]\n",
      "\n",
      "==========\n",
      "Cluster 4:\n",
      "    4 -  [Food, Sushi Bars, Restaurants, Japanese, Poke, Hawaiian]\n",
      "    5 -  [Japanese, Restaurants, Sushi Bars]\n",
      "\n",
      "==========\n",
      "Cluster 5:\n",
      "    5 -  [Restaurants, Event Planning & Services, Italian, Venues & Event Spaces]\n",
      "    1 -  [Arts & Entertainment, Hotels & Travel, Event Planning & Services, Restaurants, Casinos, Hotels]\n",
      "\n",
      "==========\n",
      "Cluster 6:\n",
      "    2 -  [Restaurants, Italian]\n",
      "    1 -  [Pizza, Restaurants]\n",
      "\n",
      "==========\n",
      "Cluster 7:\n",
      "    1 -  [Restaurants, Gluten-Free, Asian Fusion, Chinese]\n",
      "    5 -  [American (New), Tapas/Small Plates, Restaurants, French]\n",
      "\n"
     ]
    }
   ],
   "source": [
    "# random select sample from each cluster, then display samples with rating\n",
    "\n",
    "for i in range(kmeans.n_clusters):\n",
    "    cluster = np.arange(0, vectors_categories.shape[0])[assigned_cluster_categories==i] # index of cluster\n",
    "    sample_categories = np.random.choice(cluster, 2, replace=False)\n",
    "    print \"=\" * 10\n",
    "    print \"Cluster %d:\" % i\n",
    "    for categories_index in sample_categories:\n",
    "        print \"    %s - \" % df.loc[categories_index]['stars'],\n",
    "        print \"%s\" % df.loc[categories_index]['categories']\n",
    "    print"
   ]
  },
  {
   "cell_type": "markdown",
   "metadata": {},
   "source": [
    "## Extra Credit #2: Can you try different distance/similarity metrics for clusterings, e.g. Pearson correlation, Jaccard distance, etc. \n",
    "\n",
    "Hint: You can take a look at [scipy](http://docs.scipy.org/doc/scipy/reference/generated/scipy.spatial.distance.pdist.html#scipy.spatial.distance.pdist) documentations to use other distances\n",
    "\n",
    "#### Q: How do you compare with Cosine distance or Euclidean distance?"
   ]
  },
  {
   "cell_type": "code",
   "execution_count": 163,
   "metadata": {
    "collapsed": true
   },
   "outputs": [],
   "source": [
    "import nltk\n",
    "from scipy.spatial.distance import cdist\n",
    "from nltk.cluster.kmeans import KMeansClusterer"
   ]
  },
  {
   "cell_type": "code",
   "execution_count": 164,
   "metadata": {
    "collapsed": true
   },
   "outputs": [],
   "source": [
    "NUM_CLUSTERS = 5\n",
    "data = vectors_documents_top_restaurant\n",
    "\n",
    "# clustering using cosine_distance\n",
    "kclusterer_cos = KMeansClusterer(NUM_CLUSTERS, distance=nltk.cluster.util.cosine_distance, repeats=10)\n",
    "assigned_clusters_cos = kclusterer_cos.cluster(data, assign_clusters=True)"
   ]
  },
  {
   "cell_type": "markdown",
   "metadata": {},
   "source": [
    "## Extra Credit #3: Can you cluster categories from business entities? What does it mean by a cluster?\n",
    "Hint: Think the example where words can be clustered from the transposed tf-idf matrix."
   ]
  },
  {
   "cell_type": "markdown",
   "metadata": {
    "collapsed": true
   },
   "source": [
    "It means cluster categories based on similarity of business entities."
   ]
  },
  {
   "cell_type": "markdown",
   "metadata": {},
   "source": [
    "## Extra Credit #4: What are the characteristics of each of the clustered  ? For each cluster, which restaurant can best represent (\"define\") its cluster?\n",
    "Hint: how to interpret \"best\"?"
   ]
  },
  {
   "cell_type": "code",
   "execution_count": 165,
   "metadata": {
    "scrolled": true
   },
   "outputs": [
    {
     "name": "stdout",
     "output_type": "stream",
     "text": [
      "Cluster 0: Best represent Restaurant Delmonico Steakhouse\n",
      "Cluster 1: Best represent Restaurant Michael Mina\n",
      "Cluster 2: Best represent Restaurant Sin City Thai Restaurant\n",
      "Cluster 3: Best represent Restaurant Fresh Buffet\n",
      "Cluster 4: Best represent Restaurant Smashburger\n",
      "Cluster 5: Best represent Restaurant In-N-Out Burger\n",
      "Cluster 6: Best represent Restaurant Merkato Ethiopian Cafe\n",
      "Cluster 7: Best represent Restaurant The Rice Shop\n"
     ]
    }
   ],
   "source": [
    "restaurant = df.name.unique()\n",
    "best_rep = kmeans.cluster_centers_.argsort()[:, -1] \n",
    "# argsort orders from small to big, -1 is used to select the one with highest weight in the centroid vector..\n",
    "for i, rep in enumerate(best_rep):\n",
    "    print \"Cluster %i: Best represent Restaurant %s\" % (i, restaurant[i] )"
   ]
  },
  {
   "cell_type": "code",
   "execution_count": null,
   "metadata": {
    "collapsed": true
   },
   "outputs": [],
   "source": []
  }
 ],
 "metadata": {
  "anaconda-cloud": {},
  "kernelspec": {
   "display_name": "python27",
   "language": "python",
   "name": "python27"
  },
  "language_info": {
   "codemirror_mode": {
    "name": "ipython",
    "version": 2
   },
   "file_extension": ".py",
   "mimetype": "text/x-python",
   "name": "python",
   "nbconvert_exporter": "python",
   "pygments_lexer": "ipython2",
   "version": "2.7.13"
  }
 },
 "nbformat": 4,
 "nbformat_minor": 1
}
